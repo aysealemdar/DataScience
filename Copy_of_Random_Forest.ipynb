{
  "nbformat": 4,
  "nbformat_minor": 0,
  "metadata": {
    "colab": {
      "name": "Copy of Random_Forest.ipynb",
      "provenance": [],
      "collapsed_sections": [],
      "include_colab_link": true
    },
    "kernelspec": {
      "name": "python3",
      "display_name": "Python 3"
    }
  },
  "cells": [
    {
      "cell_type": "markdown",
      "metadata": {
        "id": "view-in-github",
        "colab_type": "text"
      },
      "source": [
        "<a href=\"https://colab.research.google.com/github/aysealemdar/DataScience/blob/master/Copy_of_Random_Forest.ipynb\" target=\"_parent\"><img src=\"https://colab.research.google.com/assets/colab-badge.svg\" alt=\"Open In Colab\"/></a>"
      ]
    },
    {
      "cell_type": "markdown",
      "metadata": {
        "id": "o7-_pxL0RQnG",
        "colab_type": "text"
      },
      "source": [
        "**Challenge Customer Analytics**\n",
        "\n",
        "Random Forest"
      ]
    },
    {
      "cell_type": "code",
      "metadata": {
        "id": "VEFQGZAwTVSF",
        "colab_type": "code",
        "colab": {}
      },
      "source": [
        "import csv\n",
        "import pandas as pd\n",
        "from sklearn.ensemble import RandomForestRegressor \n",
        "import numpy as np\n",
        "from sklearn import datasets\n",
        "from sklearn.model_selection import train_test_split\n",
        "from sklearn.metrics import mean_squared_error\n",
        "from sklearn import metrics\n"
      ],
      "execution_count": 0,
      "outputs": []
    },
    {
      "cell_type": "markdown",
      "metadata": {
        "id": "mJaUbW83RbJ1",
        "colab_type": "text"
      },
      "source": [
        "1. Load Data\n",
        "- Verbindung zu Google Drive wird erstellt, so dass auf die abgelegte Datenset zugegriffen werden kann \n",
        "- Danach wird CSV eingelesen und ausgegeben"
      ]
    },
    {
      "cell_type": "code",
      "metadata": {
        "id": "VsD5iDM1VEJg",
        "colab_type": "code",
        "outputId": "79b60d06-d706-4673-8e91-2edea4566215",
        "colab": {
          "base_uri": "https://localhost:8080/",
          "height": 125
        }
      },
      "source": [
        "from google.colab import drive\n",
        "drive.mount('/content/drive')"
      ],
      "execution_count": 0,
      "outputs": [
        {
          "output_type": "stream",
          "text": [
            "Go to this URL in a browser: https://accounts.google.com/o/oauth2/auth?client_id=947318989803-6bn6qk8qdgf4n4g3pfee6491hc0brc4i.apps.googleusercontent.com&redirect_uri=urn%3aietf%3awg%3aoauth%3a2.0%3aoob&response_type=code&scope=email%20https%3a%2f%2fwww.googleapis.com%2fauth%2fdocs.test%20https%3a%2f%2fwww.googleapis.com%2fauth%2fdrive%20https%3a%2f%2fwww.googleapis.com%2fauth%2fdrive.photos.readonly%20https%3a%2f%2fwww.googleapis.com%2fauth%2fpeopleapi.readonly\n",
            "\n",
            "Enter your authorization code:\n",
            "··········\n",
            "Mounted at /content/drive\n"
          ],
          "name": "stdout"
        }
      ]
    },
    {
      "cell_type": "code",
      "metadata": {
        "id": "To6bPFC9LqGk",
        "colab_type": "code",
        "outputId": "ecd16c5b-233a-4532-ad29-86b9f379814a",
        "colab": {
          "base_uri": "https://localhost:8080/",
          "height": 317
        }
      },
      "source": [
        "train_data = pd.read_csv('/content/drive/My Drive/Customer Analytics/Datensätze/clean_train_daily.csv', sep=\";\",\n",
        "                 header=None,\n",
        "                 names=['Datum', 'Jahr', 'Monat','TagMonat', 'Kalenderwoche', 'Tag', 'Tagesnummer',\n",
        "                        'Lokaler Feiertag', 'FeiertagID', 'Temperatur', 'Windgeschwindigkeit', \n",
        "                        'Feuchtigkeit', 'Schneefall', 'Niederschlag', 'Sonnenminuten', 'Schulferien', \n",
        "                        'FerienID', 'Umsatz'])\n",
        "train_data = train_data.drop(train_data.index[[0]])\n",
        "train_data.head()"
      ],
      "execution_count": 0,
      "outputs": [
        {
          "output_type": "execute_result",
          "data": {
            "text/html": [
              "<div>\n",
              "<style scoped>\n",
              "    .dataframe tbody tr th:only-of-type {\n",
              "        vertical-align: middle;\n",
              "    }\n",
              "\n",
              "    .dataframe tbody tr th {\n",
              "        vertical-align: top;\n",
              "    }\n",
              "\n",
              "    .dataframe thead th {\n",
              "        text-align: right;\n",
              "    }\n",
              "</style>\n",
              "<table border=\"1\" class=\"dataframe\">\n",
              "  <thead>\n",
              "    <tr style=\"text-align: right;\">\n",
              "      <th></th>\n",
              "      <th>Datum</th>\n",
              "      <th>Jahr</th>\n",
              "      <th>Monat</th>\n",
              "      <th>TagMonat</th>\n",
              "      <th>Kalenderwoche</th>\n",
              "      <th>Tag</th>\n",
              "      <th>Tagesnummer</th>\n",
              "      <th>Lokaler Feiertag</th>\n",
              "      <th>FeiertagID</th>\n",
              "      <th>Temperatur</th>\n",
              "      <th>Windgeschwindigkeit</th>\n",
              "      <th>Feuchtigkeit</th>\n",
              "      <th>Schneefall</th>\n",
              "      <th>Niederschlag</th>\n",
              "      <th>Sonnenminuten</th>\n",
              "      <th>Schulferien</th>\n",
              "      <th>FerienID</th>\n",
              "      <th>Umsatz</th>\n",
              "    </tr>\n",
              "  </thead>\n",
              "  <tbody>\n",
              "    <tr>\n",
              "      <th>1</th>\n",
              "      <td>02.01.2017</td>\n",
              "      <td>2017</td>\n",
              "      <td>1</td>\n",
              "      <td>2</td>\n",
              "      <td>1</td>\n",
              "      <td>Mo</td>\n",
              "      <td>1</td>\n",
              "      <td>NaN</td>\n",
              "      <td>0</td>\n",
              "      <td>0.805833333</td>\n",
              "      <td>3.280416667</td>\n",
              "      <td>84.66666667</td>\n",
              "      <td>0</td>\n",
              "      <td>3</td>\n",
              "      <td>188</td>\n",
              "      <td>Christmas holidays</td>\n",
              "      <td>1</td>\n",
              "      <td>8275.69157</td>\n",
              "    </tr>\n",
              "    <tr>\n",
              "      <th>2</th>\n",
              "      <td>03.01.2017</td>\n",
              "      <td>2017</td>\n",
              "      <td>1</td>\n",
              "      <td>3</td>\n",
              "      <td>1</td>\n",
              "      <td>Di</td>\n",
              "      <td>2</td>\n",
              "      <td>NaN</td>\n",
              "      <td>0</td>\n",
              "      <td>-2.075416667</td>\n",
              "      <td>1.700833333</td>\n",
              "      <td>85.125</td>\n",
              "      <td>0</td>\n",
              "      <td>0</td>\n",
              "      <td>390</td>\n",
              "      <td>Christmas holidays</td>\n",
              "      <td>1</td>\n",
              "      <td>3915.02667</td>\n",
              "    </tr>\n",
              "    <tr>\n",
              "      <th>3</th>\n",
              "      <td>04.01.2017</td>\n",
              "      <td>2017</td>\n",
              "      <td>1</td>\n",
              "      <td>4</td>\n",
              "      <td>1</td>\n",
              "      <td>Mi</td>\n",
              "      <td>3</td>\n",
              "      <td>NaN</td>\n",
              "      <td>0</td>\n",
              "      <td>-0.00375</td>\n",
              "      <td>10.35125</td>\n",
              "      <td>87</td>\n",
              "      <td>1</td>\n",
              "      <td>1.9</td>\n",
              "      <td>0</td>\n",
              "      <td>Christmas holidays</td>\n",
              "      <td>1</td>\n",
              "      <td>2195.397</td>\n",
              "    </tr>\n",
              "    <tr>\n",
              "      <th>4</th>\n",
              "      <td>05.01.2017</td>\n",
              "      <td>2017</td>\n",
              "      <td>1</td>\n",
              "      <td>5</td>\n",
              "      <td>1</td>\n",
              "      <td>Do</td>\n",
              "      <td>4</td>\n",
              "      <td>NaN</td>\n",
              "      <td>0</td>\n",
              "      <td>-2.39125</td>\n",
              "      <td>6.202083333</td>\n",
              "      <td>89.58333333</td>\n",
              "      <td>1</td>\n",
              "      <td>1.4</td>\n",
              "      <td>275</td>\n",
              "      <td>Christmas holidays</td>\n",
              "      <td>1</td>\n",
              "      <td>2272.40105</td>\n",
              "    </tr>\n",
              "    <tr>\n",
              "      <th>5</th>\n",
              "      <td>06.01.2017</td>\n",
              "      <td>2017</td>\n",
              "      <td>1</td>\n",
              "      <td>6</td>\n",
              "      <td>1</td>\n",
              "      <td>Fr</td>\n",
              "      <td>5</td>\n",
              "      <td>NaN</td>\n",
              "      <td>0</td>\n",
              "      <td>-8</td>\n",
              "      <td>3.671666667</td>\n",
              "      <td>81.08333333</td>\n",
              "      <td>0</td>\n",
              "      <td>0</td>\n",
              "      <td>522</td>\n",
              "      <td>Christmas holidays</td>\n",
              "      <td>1</td>\n",
              "      <td>4914.95375</td>\n",
              "    </tr>\n",
              "  </tbody>\n",
              "</table>\n",
              "</div>"
            ],
            "text/plain": [
              "        Datum  Jahr Monat  ...         Schulferien FerienID      Umsatz\n",
              "1  02.01.2017  2017     1  ...  Christmas holidays        1  8275.69157\n",
              "2  03.01.2017  2017     1  ...  Christmas holidays        1  3915.02667\n",
              "3  04.01.2017  2017     1  ...  Christmas holidays        1    2195.397\n",
              "4  05.01.2017  2017     1  ...  Christmas holidays        1  2272.40105\n",
              "5  06.01.2017  2017     1  ...  Christmas holidays        1  4914.95375\n",
              "\n",
              "[5 rows x 18 columns]"
            ]
          },
          "metadata": {
            "tags": []
          },
          "execution_count": 3
        }
      ]
    },
    {
      "cell_type": "markdown",
      "metadata": {
        "id": "Lo3Du4CmQzz5",
        "colab_type": "text"
      },
      "source": [
        "2. DataFrame\n",
        "- DataFrame erstellen damit Random Forest ausgeführt werden kann\n",
        "- Alle Features, welche nit numerisch sind müssen entfernt werden. Random Forest kann damit nicht umgehen. "
      ]
    },
    {
      "cell_type": "code",
      "metadata": {
        "id": "UV6I5tCECjgz",
        "colab_type": "code",
        "outputId": "016b368c-d334-415d-b871-e1fcab011723",
        "colab": {
          "base_uri": "https://localhost:8080/",
          "height": 197
        }
      },
      "source": [
        "df=pd.DataFrame(train_data)\n",
        "df.head()\n",
        "df.drop('Tag', axis=1, inplace=True)\n",
        "df.drop('Schulferien', axis=1, inplace=True)\n",
        "df.drop('Datum', axis=1, inplace=True)\n",
        "df.drop('Lokaler Feiertag', axis=1, inplace=True)\n",
        "df.head()\n"
      ],
      "execution_count": 0,
      "outputs": [
        {
          "output_type": "execute_result",
          "data": {
            "text/html": [
              "<div>\n",
              "<style scoped>\n",
              "    .dataframe tbody tr th:only-of-type {\n",
              "        vertical-align: middle;\n",
              "    }\n",
              "\n",
              "    .dataframe tbody tr th {\n",
              "        vertical-align: top;\n",
              "    }\n",
              "\n",
              "    .dataframe thead th {\n",
              "        text-align: right;\n",
              "    }\n",
              "</style>\n",
              "<table border=\"1\" class=\"dataframe\">\n",
              "  <thead>\n",
              "    <tr style=\"text-align: right;\">\n",
              "      <th></th>\n",
              "      <th>Jahr</th>\n",
              "      <th>Monat</th>\n",
              "      <th>TagMonat</th>\n",
              "      <th>Kalenderwoche</th>\n",
              "      <th>Tagesnummer</th>\n",
              "      <th>FeiertagID</th>\n",
              "      <th>Temperatur</th>\n",
              "      <th>Windgeschwindigkeit</th>\n",
              "      <th>Feuchtigkeit</th>\n",
              "      <th>Schneefall</th>\n",
              "      <th>Niederschlag</th>\n",
              "      <th>Sonnenminuten</th>\n",
              "      <th>FerienID</th>\n",
              "      <th>Umsatz</th>\n",
              "    </tr>\n",
              "  </thead>\n",
              "  <tbody>\n",
              "    <tr>\n",
              "      <th>1</th>\n",
              "      <td>2017</td>\n",
              "      <td>1</td>\n",
              "      <td>2</td>\n",
              "      <td>1</td>\n",
              "      <td>1</td>\n",
              "      <td>0</td>\n",
              "      <td>0.805833333</td>\n",
              "      <td>3.280416667</td>\n",
              "      <td>84.66666667</td>\n",
              "      <td>0</td>\n",
              "      <td>3</td>\n",
              "      <td>188</td>\n",
              "      <td>1</td>\n",
              "      <td>8275.69157</td>\n",
              "    </tr>\n",
              "    <tr>\n",
              "      <th>2</th>\n",
              "      <td>2017</td>\n",
              "      <td>1</td>\n",
              "      <td>3</td>\n",
              "      <td>1</td>\n",
              "      <td>2</td>\n",
              "      <td>0</td>\n",
              "      <td>-2.075416667</td>\n",
              "      <td>1.700833333</td>\n",
              "      <td>85.125</td>\n",
              "      <td>0</td>\n",
              "      <td>0</td>\n",
              "      <td>390</td>\n",
              "      <td>1</td>\n",
              "      <td>3915.02667</td>\n",
              "    </tr>\n",
              "    <tr>\n",
              "      <th>3</th>\n",
              "      <td>2017</td>\n",
              "      <td>1</td>\n",
              "      <td>4</td>\n",
              "      <td>1</td>\n",
              "      <td>3</td>\n",
              "      <td>0</td>\n",
              "      <td>-0.00375</td>\n",
              "      <td>10.35125</td>\n",
              "      <td>87</td>\n",
              "      <td>1</td>\n",
              "      <td>1.9</td>\n",
              "      <td>0</td>\n",
              "      <td>1</td>\n",
              "      <td>2195.397</td>\n",
              "    </tr>\n",
              "    <tr>\n",
              "      <th>4</th>\n",
              "      <td>2017</td>\n",
              "      <td>1</td>\n",
              "      <td>5</td>\n",
              "      <td>1</td>\n",
              "      <td>4</td>\n",
              "      <td>0</td>\n",
              "      <td>-2.39125</td>\n",
              "      <td>6.202083333</td>\n",
              "      <td>89.58333333</td>\n",
              "      <td>1</td>\n",
              "      <td>1.4</td>\n",
              "      <td>275</td>\n",
              "      <td>1</td>\n",
              "      <td>2272.40105</td>\n",
              "    </tr>\n",
              "    <tr>\n",
              "      <th>5</th>\n",
              "      <td>2017</td>\n",
              "      <td>1</td>\n",
              "      <td>6</td>\n",
              "      <td>1</td>\n",
              "      <td>5</td>\n",
              "      <td>0</td>\n",
              "      <td>-8</td>\n",
              "      <td>3.671666667</td>\n",
              "      <td>81.08333333</td>\n",
              "      <td>0</td>\n",
              "      <td>0</td>\n",
              "      <td>522</td>\n",
              "      <td>1</td>\n",
              "      <td>4914.95375</td>\n",
              "    </tr>\n",
              "  </tbody>\n",
              "</table>\n",
              "</div>"
            ],
            "text/plain": [
              "   Jahr Monat TagMonat  ... Sonnenminuten FerienID      Umsatz\n",
              "1  2017     1        2  ...           188        1  8275.69157\n",
              "2  2017     1        3  ...           390        1  3915.02667\n",
              "3  2017     1        4  ...             0        1    2195.397\n",
              "4  2017     1        5  ...           275        1  2272.40105\n",
              "5  2017     1        6  ...           522        1  4914.95375\n",
              "\n",
              "[5 rows x 14 columns]"
            ]
          },
          "metadata": {
            "tags": []
          },
          "execution_count": 4
        }
      ]
    },
    {
      "cell_type": "code",
      "metadata": {
        "id": "3GFTjZLrTL54",
        "colab_type": "code",
        "outputId": "1b694c2d-7a34-4ec8-8330-476f8b74bf99",
        "colab": {
          "base_uri": "https://localhost:8080/",
          "height": 52
        }
      },
      "source": [
        "print(df.iat[104,4])\n",
        "type(df.iat[104,4])"
      ],
      "execution_count": 0,
      "outputs": [
        {
          "output_type": "stream",
          "text": [
            "7\n"
          ],
          "name": "stdout"
        },
        {
          "output_type": "execute_result",
          "data": {
            "text/plain": [
              "str"
            ]
          },
          "metadata": {
            "tags": []
          },
          "execution_count": 5
        }
      ]
    },
    {
      "cell_type": "markdown",
      "metadata": {
        "id": "Pi7N2-SPSEA6",
        "colab_type": "text"
      },
      "source": [
        "3. Create test and train data\n",
        "- mit 0:13 geben wir an was die Werte sind und 13 ist der Index für den Label also Umsatz.\n",
        "- mit x und y definieren wir die variablen und den Label"
      ]
    },
    {
      "cell_type": "code",
      "metadata": {
        "id": "OSyRO1J0uffL",
        "colab_type": "code",
        "colab": {}
      },
      "source": [
        "X = df.iloc[:, 0:13].values\n",
        "y = df.iloc[:, 13].values"
      ],
      "execution_count": 0,
      "outputs": []
    },
    {
      "cell_type": "markdown",
      "metadata": {
        "id": "ysQTPNCUR_qQ",
        "colab_type": "text"
      },
      "source": [
        "- Unterteilung der Daten in Trainings- und Testdaten dabei nehmen wir 0.2 also 20% für den Test der Rest ist Training."
      ]
    },
    {
      "cell_type": "code",
      "metadata": {
        "id": "VHKWl_7eu7dV",
        "colab_type": "code",
        "colab": {}
      },
      "source": [
        "X_train, X_test, y_train, y_test = train_test_split(X, y, test_size=0.2, random_state=0)"
      ],
      "execution_count": 0,
      "outputs": []
    },
    {
      "cell_type": "markdown",
      "metadata": {
        "id": "Jm6ldGi4S4Gr",
        "colab_type": "text"
      },
      "source": [
        "4. Build Random Forest Model\n",
        "- n_estimators ist ein Parameter der Anzahl Decision Trees festlegt, die gebaut werden sollen. \n",
        "- random_state ist der Seed der festgelegt wird\n",
        "- danach wird Model ausgeführt"
      ]
    },
    {
      "cell_type": "code",
      "metadata": {
        "id": "7HOJJPcjvSLg",
        "colab_type": "code",
        "colab": {}
      },
      "source": [
        "regressor = RandomForestRegressor(n_estimators=20, random_state=0)\n",
        "regressor.fit(X_train, y_train)\n"
      ],
      "execution_count": 0,
      "outputs": []
    },
    {
      "cell_type": "markdown",
      "metadata": {
        "id": "X_ZaZRa6Tn3A",
        "colab_type": "text"
      },
      "source": [
        "5. Predict\n",
        "- Prediction von Test Labels"
      ]
    },
    {
      "cell_type": "code",
      "metadata": {
        "id": "AelU4-TRTnXn",
        "colab_type": "code",
        "colab": {}
      },
      "source": [
        "y_pred = regressor.predict(X_test)"
      ],
      "execution_count": 0,
      "outputs": []
    },
    {
      "cell_type": "markdown",
      "metadata": {
        "id": "HLpJrDYyTy9U",
        "colab_type": "text"
      },
      "source": [
        "6. Metrics & Results\n"
      ]
    },
    {
      "cell_type": "code",
      "metadata": {
        "id": "L8zlk4_0vk62",
        "colab_type": "code",
        "outputId": "c5b29a8d-5251-45ac-8d0d-f995fb3c6109",
        "colab": {
          "base_uri": "https://localhost:8080/",
          "height": 70
        }
      },
      "source": [
        "print('Mean Absolute Error:', metrics.mean_absolute_error(y_test, y_pred))\n",
        "print('Mean Squared Error:', metrics.mean_squared_error(y_test, y_pred))\n",
        "print('Root Mean Squared Error:', np.sqrt(metrics.mean_squared_error(y_test, y_pred)))"
      ],
      "execution_count": 0,
      "outputs": [
        {
          "output_type": "stream",
          "text": [
            "Mean Absolute Error: 1977.2161501146788\n",
            "Mean Squared Error: 6827718.558019126\n",
            "Root Mean Squared Error: 2612.9903478618376\n"
          ],
          "name": "stdout"
        }
      ]
    },
    {
      "cell_type": "code",
      "metadata": {
        "id": "9zJyhcDYVuVB",
        "colab_type": "code",
        "colab": {}
      },
      "source": [
        "#source:https://www.youtube.com/watch?v=ok2s1vV9XW0\n",
        "#train_data in Test und Train teilen 80% train und 20% test\n",
        "#X sind unabhängige Variablen die Umsatz beinhalten,deswegen löschen wir Umsatz Spalte und bei Y sage ich es Zielvariable ist 'Umsatz'\n",
        "X_train, X_test, y_train, y_test = train_test_split(df.drop(['Umsatz'],axis='columns'),df.Umsatz,test_size=0.2)"
      ],
      "execution_count": 0,
      "outputs": []
    },
    {
      "cell_type": "code",
      "metadata": {
        "id": "fmLckt2AGjT-",
        "colab_type": "code",
        "outputId": "f673a72e-f42b-42c7-ea18-db7e34a250c3",
        "colab": {
          "base_uri": "https://localhost:8080/",
          "height": 52
        }
      },
      "source": [
        "#Nachprüfen, wie viele Daten in Train und Test sind.\n",
        "print(\"train: \"+str(len(X_train)))\n",
        "print(\"test: \"+str(len(X_test)))"
      ],
      "execution_count": 0,
      "outputs": [
        {
          "output_type": "stream",
          "text": [
            "train: 869\n",
            "test: 218\n"
          ],
          "name": "stdout"
        }
      ]
    },
    {
      "cell_type": "code",
      "metadata": {
        "id": "RhnW3eykJg83",
        "colab_type": "code",
        "outputId": "0460ecf6-3c34-497a-b52b-ba8eac62b574",
        "colab": {
          "base_uri": "https://localhost:8080/",
          "height": 141
        }
      },
      "source": [
        "#https://www.geeksforgeeks.org/random-forest-regression-in-python/\n",
        "regressor = RandomForestRegressor(n_estimators = 100, random_state = 0) \n",
        "regressor.fit(X_train,y_train) "
      ],
      "execution_count": 0,
      "outputs": [
        {
          "output_type": "execute_result",
          "data": {
            "text/plain": [
              "RandomForestRegressor(bootstrap=True, ccp_alpha=0.0, criterion='mse',\n",
              "                      max_depth=None, max_features='auto', max_leaf_nodes=None,\n",
              "                      max_samples=None, min_impurity_decrease=0.0,\n",
              "                      min_impurity_split=None, min_samples_leaf=1,\n",
              "                      min_samples_split=2, min_weight_fraction_leaf=0.0,\n",
              "                      n_estimators=100, n_jobs=None, oob_score=False,\n",
              "                      random_state=0, verbose=0, warm_start=False)"
            ]
          },
          "metadata": {
            "tags": []
          },
          "execution_count": 12
        }
      ]
    },
    {
      "cell_type": "code",
      "metadata": {
        "id": "4OYrTknNSy4O",
        "colab_type": "code",
        "outputId": "6da7aa12-eac8-4c6c-c0e7-acfd0e8dbbe2",
        "colab": {
          "base_uri": "https://localhost:8080/",
          "height": 141
        }
      },
      "source": [
        "#1. Random Forest aufbauen\n",
        "#The n_estimators parameter defines the number of trees in the random forest. \n",
        "#The random_state parameter is the seed used by the random number.\n",
        "#if you call this with random_state=0 (or any other value), then each and every time, you’ll get the same result generator.\n",
        "regressor_02 = RandomForestRegressor(n_estimators = 200, random_state = 0) \n",
        "\n",
        "#fit Trainingsdata \n",
        "regressor_02.fit(X_train,y_train) "
      ],
      "execution_count": 0,
      "outputs": [
        {
          "output_type": "execute_result",
          "data": {
            "text/plain": [
              "RandomForestRegressor(bootstrap=True, ccp_alpha=0.0, criterion='mse',\n",
              "                      max_depth=None, max_features='auto', max_leaf_nodes=None,\n",
              "                      max_samples=None, min_impurity_decrease=0.0,\n",
              "                      min_impurity_split=None, min_samples_leaf=1,\n",
              "                      min_samples_split=2, min_weight_fraction_leaf=0.0,\n",
              "                      n_estimators=200, n_jobs=None, oob_score=False,\n",
              "                      random_state=0, verbose=0, warm_start=False)"
            ]
          },
          "metadata": {
            "tags": []
          },
          "execution_count": 13
        }
      ]
    },
    {
      "cell_type": "code",
      "metadata": {
        "id": "DySMzt8ICjo4",
        "colab_type": "code",
        "outputId": "4cfb0ad9-509e-4d94-f506-5c0e87daa30b",
        "colab": {
          "base_uri": "https://localhost:8080/",
          "height": 34
        }
      },
      "source": [
        "regressor_02.score(X_test,y_test)"
      ],
      "execution_count": 0,
      "outputs": [
        {
          "output_type": "execute_result",
          "data": {
            "text/plain": [
              "0.8412599928533626"
            ]
          },
          "metadata": {
            "tags": []
          },
          "execution_count": 14
        }
      ]
    },
    {
      "cell_type": "code",
      "metadata": {
        "id": "IdZu8auG6DQA",
        "colab_type": "code",
        "outputId": "10ec1f80-d101-43fd-8079-7539a620259d",
        "colab": {
          "base_uri": "https://localhost:8080/",
          "height": 141
        }
      },
      "source": [
        "#Modell aufstellen\n",
        "regressor_03 = RandomForestRegressor(n_estimators = 50, random_state = 0) \n",
        "\n",
        "#fit Trainingsdata \n",
        "regressor_03.fit(X_train,y_train) "
      ],
      "execution_count": 0,
      "outputs": [
        {
          "output_type": "execute_result",
          "data": {
            "text/plain": [
              "RandomForestRegressor(bootstrap=True, ccp_alpha=0.0, criterion='mse',\n",
              "                      max_depth=None, max_features='auto', max_leaf_nodes=None,\n",
              "                      max_samples=None, min_impurity_decrease=0.0,\n",
              "                      min_impurity_split=None, min_samples_leaf=1,\n",
              "                      min_samples_split=2, min_weight_fraction_leaf=0.0,\n",
              "                      n_estimators=50, n_jobs=None, oob_score=False,\n",
              "                      random_state=0, verbose=0, warm_start=False)"
            ]
          },
          "metadata": {
            "tags": []
          },
          "execution_count": 15
        }
      ]
    },
    {
      "cell_type": "code",
      "metadata": {
        "id": "WnXX4NpV6H60",
        "colab_type": "code",
        "outputId": "dd6dbde3-65fd-41e3-9fc4-b647f197a36e",
        "colab": {
          "base_uri": "https://localhost:8080/",
          "height": 34
        }
      },
      "source": [
        "#Ergebnisse vom Modell Regressor_03\n",
        "regressor_03.score(X_test,y_test)"
      ],
      "execution_count": 0,
      "outputs": [
        {
          "output_type": "execute_result",
          "data": {
            "text/plain": [
              "0.840206055327155"
            ]
          },
          "metadata": {
            "tags": []
          },
          "execution_count": 16
        }
      ]
    },
    {
      "cell_type": "code",
      "metadata": {
        "id": "J9TYYA84TBXd",
        "colab_type": "code",
        "outputId": "061fd408-f1cf-4649-f942-1f6f9175961b",
        "colab": {
          "base_uri": "https://localhost:8080/",
          "height": 994
        }
      },
      "source": [
        "#Mit den für Test gesplitteten Datensätzen prediction machen\n",
        "y_pred = regressor_03.predict(X_test)\n",
        "y_pred"
      ],
      "execution_count": 0,
      "outputs": [
        {
          "output_type": "execute_result",
          "data": {
            "text/plain": [
              "array([17427.4306314,  7858.551473 ,  6262.2520104,  4995.409424 ,\n",
              "       17107.9043764, 10491.4658642, 20000.5102312, 17515.1163062,\n",
              "       10125.6435604,  7906.9242286,  9813.0636104, 11680.8473846,\n",
              "        2833.4919644,  9955.2044478, 18981.53788  , 12062.4077178,\n",
              "       12370.189502 , 11299.8494346, 17743.772118 , 12114.8528324,\n",
              "        6460.4850864, 11067.449285 ,  4273.034077 , 10821.2829062,\n",
              "       14811.9898676,  8198.4281914,  7609.8415696,  7138.0908318,\n",
              "        9348.096554 ,  6195.9741594, 16877.7946252,  8410.582175 ,\n",
              "        8362.3706434,  7065.6544058,  7184.8389954,  7105.3370784,\n",
              "       18333.7761106, 15635.868405 , 11624.6009134,  6083.6913868,\n",
              "       11494.1548864, 14002.1744972, 19538.2749686, 14912.7612776,\n",
              "        8469.2924088, 10955.6307936, 19151.6828082,  7385.9329844,\n",
              "        7316.9339474, 19296.5128458, 15839.259726 ,  6940.4972518,\n",
              "       19029.9569852, 18929.7400292, 18476.980797 , 12689.5328266,\n",
              "       10175.5910316, 10137.818246 ,  6680.6916026, 19603.6769032,\n",
              "       14614.2190966,  4948.7172846, 16433.2436646, 15172.1059018,\n",
              "        6823.8549442,  9825.2475118,  5805.8584464, 18748.2753372,\n",
              "       14800.4936318,  7194.622768 , 25121.1698958, 14604.9707202,\n",
              "       12728.7904008,  6422.9625324,  4599.2199734, 13014.6656212,\n",
              "       17974.969489 ,  8788.9778654,  8275.3751304, 16803.1180428,\n",
              "        5164.6534174, 16497.1296806, 13762.708508 ,  6633.2928202,\n",
              "       14515.5888808,  6743.7764152,  6335.533308 ,  3325.4048702,\n",
              "       15997.5893208, 17799.1419246,  6318.237468 ,  4081.2879786,\n",
              "       10421.7461128,  4573.3174258,  6263.352537 ,  9134.7925992,\n",
              "        7512.0311476, 10429.2165218, 14674.926873 , 13754.7274926,\n",
              "        5650.3464532, 16365.5909848,  5716.1164252, 22052.7405568,\n",
              "       19905.5091444, 15487.546703 ,  7425.0389598,  7814.8730304,\n",
              "        3931.5613192,  5077.5746538, 10621.5333816,  8636.010443 ,\n",
              "        6258.0356766,  6380.4696704, 20893.0826628,  6086.1086744,\n",
              "       22145.285906 , 16374.7310938, 11009.6794744, 13965.5157266,\n",
              "       12754.9894674,  5584.8455574,  7878.7271336,  8928.2843724,\n",
              "        8219.6455178, 14346.4334688, 20780.3549086, 18446.331009 ,\n",
              "       11827.4487808, 15146.105162 ,  6302.3441908, 16228.9168272,\n",
              "       17292.1525218, 11463.7636256,  3891.5190398, 16875.1739142,\n",
              "        8745.9136188, 12603.2308256, 10825.8785668,  5154.9033132,\n",
              "        3212.666522 ,  9037.6186738,  3561.6154332,  3562.7810048,\n",
              "       22969.5983278,  3775.391815 , 19908.338174 , 14950.3573072,\n",
              "        3248.4844564, 15324.5291382, 15566.409091 , 24245.7846726,\n",
              "       17805.0933224,  7501.02647  , 14518.7320784, 14245.4209946,\n",
              "       19345.4076336,  6812.3821756, 13358.0713218,  4883.6519116,\n",
              "        4205.5205812,  4315.1343558,  3559.8500538, 17006.3968832,\n",
              "       20992.916821 ,  3638.7848126,  4931.9537636,  4970.4385758,\n",
              "        4928.4544536,  6577.1874504,  4869.3004328, 20695.7470486,\n",
              "        5334.293771 ,  3766.931413 ,  5075.920342 , 14431.6391544,\n",
              "        2996.6125808, 22035.0884308, 20541.6461366,  6248.5831234,\n",
              "       14839.7399376,  4759.8058786,  4926.3820064,  4215.4533086,\n",
              "        3514.9273922, 14392.9198938, 12374.9083662,  8778.6697778,\n",
              "       14956.219104 ,  3005.7306172,  6350.0653338, 24418.7902794,\n",
              "       11975.0909162, 12365.16003  , 10250.13272  ,  5821.4466424,\n",
              "        6856.7999054,  9353.445021 ,  3585.231089 , 15598.7475062,\n",
              "       15625.3419498, 13341.6523292, 17375.073331 , 16915.716092 ,\n",
              "        4845.6082688,  8775.8925664,  9505.907685 ,  9723.0638924,\n",
              "        5817.6203162,  9253.751249 , 15891.5305952, 17636.4752072,\n",
              "        3505.479385 , 20465.7014956,  3309.4027778,  3393.5694602,\n",
              "        4050.9887404,  3504.9434322])"
            ]
          },
          "metadata": {
            "tags": []
          },
          "execution_count": 17
        }
      ]
    },
    {
      "cell_type": "code",
      "metadata": {
        "id": "PrA2xovQ9Agk",
        "colab_type": "code",
        "outputId": "b4d11ac8-e5ef-4e34-f836-2a0fb01fd6d8",
        "colab": {
          "base_uri": "https://localhost:8080/",
          "height": 34
        }
      },
      "source": [
        "regressor_02.score(X_test,y_pred)"
      ],
      "execution_count": 0,
      "outputs": [
        {
          "output_type": "execute_result",
          "data": {
            "text/plain": [
              "0.996741426877316"
            ]
          },
          "metadata": {
            "tags": []
          },
          "execution_count": 18
        }
      ]
    },
    {
      "cell_type": "code",
      "metadata": {
        "id": "7o0BlJ2bMEK-",
        "colab_type": "code",
        "outputId": "da7c5eb2-ce07-417b-a794-f4ca83b2f76f",
        "colab": {
          "base_uri": "https://localhost:8080/",
          "height": 52
        }
      },
      "source": [
        "#print out the Mean Absolute Error\n",
        "print('Mean Absolute Error:', mean_squared_error(y_test, y_pred))"
      ],
      "execution_count": 0,
      "outputs": [
        {
          "output_type": "stream",
          "text": [
            "Mean Absolute Error: 6448685.250970167\n",
            "ERROR! Session/line number was not unique in database. History logging moved to new session 61\n"
          ],
          "name": "stdout"
        }
      ]
    },
    {
      "cell_type": "code",
      "metadata": {
        "id": "ihpXN7WgU9jJ",
        "colab_type": "code",
        "outputId": "a49638af-97ef-41a6-86bd-8d2e2d977362",
        "colab": {
          "base_uri": "https://localhost:8080/",
          "height": 151
        }
      },
      "source": [
        "#MSE berechnen\n",
        "mse=mean_squared_error(y_test, y_pred))\n",
        "rmse=np.sqrt(mse))\n",
        "rmse\n",
        "mse\n",
        "print('Mean Absolute Error:', mean_squared_error(y_test, y_pred))"
      ],
      "execution_count": 0,
      "outputs": [
        {
          "output_type": "error",
          "ename": "SyntaxError",
          "evalue": "ignored",
          "traceback": [
            "\u001b[0;36m  File \u001b[0;32m\"<ipython-input-21-39b1fe3aa3c2>\"\u001b[0;36m, line \u001b[0;32m1\u001b[0m\n\u001b[0;31m    mse=mean_squared_error(y_test, y_pred))\u001b[0m\n\u001b[0m                                          ^\u001b[0m\n\u001b[0;31mSyntaxError\u001b[0m\u001b[0;31m:\u001b[0m invalid syntax\n"
          ]
        },
        {
          "output_type": "stream",
          "text": [
            "ERROR! Session/line number was not unique in database. History logging moved to new session 60\n"
          ],
          "name": "stdout"
        }
      ]
    },
    {
      "cell_type": "code",
      "metadata": {
        "id": "xrjhM4QzTBdO",
        "colab_type": "code",
        "colab": {}
      },
      "source": [
        "test_data = pd.read_csv('/content/drive/My Drive/Customer Analytics/Datensätze/test_daily.csv', sep=\";\",\n",
        "                 header=None,\n",
        "                 names=['Datum', 'Jahr', 'Monat','TagMonat', 'Kalenderwoche', 'Tag', 'Tagesnummer',\n",
        "                        'Lokaler Feiertag', 'FeiertagID', 'Temperatur', 'Windgeschwindigkeit', \n",
        "                        'Feuchtigkeit', 'Schneefall', 'Niederschlag', 'Sonnenminuten', 'Schulferien', \n",
        "                        'FerienID'])\n",
        "test_data = test_data.drop(test_data.index[[0]])\n",
        "test_data.head()"
      ],
      "execution_count": 0,
      "outputs": []
    },
    {
      "cell_type": "code",
      "metadata": {
        "id": "aDzfXpGtg8BH",
        "colab_type": "code",
        "colab": {}
      },
      "source": [
        "df2=pd.DataFrame(test_data)\n",
        "df2.head()"
      ],
      "execution_count": 0,
      "outputs": []
    },
    {
      "cell_type": "code",
      "metadata": {
        "id": "EkU9jnIKZclQ",
        "colab_type": "code",
        "colab": {}
      },
      "source": [
        "i=1\n",
        "pd.DataFrame(df2, index=[i])"
      ],
      "execution_count": 0,
      "outputs": []
    },
    {
      "cell_type": "code",
      "metadata": {
        "id": "cp5NUfBsg69W",
        "colab_type": "code",
        "colab": {}
      },
      "source": [
        "df2['Umsatz']=0"
      ],
      "execution_count": 0,
      "outputs": []
    },
    {
      "cell_type": "code",
      "metadata": {
        "id": "62LpjHyNU9ln",
        "colab_type": "code",
        "colab": {}
      },
      "source": [
        "i=1\n",
        "while i >len(test_data):\n",
        "  prediction= regressor.predict(pd.DataFrame(df2, index=[i]))\n",
        "  i=i+1\n",
        "  df2['Umsatz']=prediction\n",
        "  pd.DataFrame(df2, index=[i])"
      ],
      "execution_count": 0,
      "outputs": []
    },
    {
      "cell_type": "code",
      "metadata": {
        "id": "bEjOalBXU9nm",
        "colab_type": "code",
        "colab": {}
      },
      "source": [
        ""
      ],
      "execution_count": 0,
      "outputs": []
    },
    {
      "cell_type": "code",
      "metadata": {
        "id": "mJ12lfnJU9pe",
        "colab_type": "code",
        "colab": {}
      },
      "source": [
        ""
      ],
      "execution_count": 0,
      "outputs": []
    },
    {
      "cell_type": "code",
      "metadata": {
        "id": "XY9vov5yU9t6",
        "colab_type": "code",
        "colab": {}
      },
      "source": [
        ""
      ],
      "execution_count": 0,
      "outputs": []
    }
  ]
}