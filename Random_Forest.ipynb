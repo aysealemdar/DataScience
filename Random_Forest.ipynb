{
  "nbformat": 4,
  "nbformat_minor": 0,
  "metadata": {
    "colab": {
      "name": "Random_Forest.ipynb",
      "provenance": [],
      "collapsed_sections": [],
      "include_colab_link": true
    },
    "kernelspec": {
      "name": "python3",
      "display_name": "Python 3"
    }
  },
  "cells": [
    {
      "cell_type": "markdown",
      "metadata": {
        "id": "view-in-github",
        "colab_type": "text"
      },
      "source": [
        "<a href=\"https://colab.research.google.com/github/aysealemdar/DataScience/blob/master/Random_Forest.ipynb\" target=\"_parent\"><img src=\"https://colab.research.google.com/assets/colab-badge.svg\" alt=\"Open In Colab\"/></a>"
      ]
    },
    {
      "cell_type": "markdown",
      "metadata": {
        "id": "o7-_pxL0RQnG",
        "colab_type": "text"
      },
      "source": [
        "#**Challenge Customer Analytics**\n",
        "\n",
        "Random Forest"
      ]
    },
    {
      "cell_type": "code",
      "metadata": {
        "id": "VEFQGZAwTVSF",
        "colab_type": "code",
        "colab": {}
      },
      "source": [
        "import csv\n",
        "import pandas as pd\n",
        "from sklearn.ensemble import RandomForestRegressor \n",
        "import numpy as np\n",
        "from sklearn import datasets\n",
        "from sklearn.model_selection import train_test_split\n",
        "from sklearn.metrics import mean_squared_error\n",
        "from sklearn import metrics\n",
        "from sklearn.preprocessing import StandardScaler\n",
        "from sklearn.metrics import classification_report, confusion_matrix, accuracy_score\n",
        "from sklearn.externals import joblib\n",
        "from sklearn.ensemble import RandomForestClassifier"
      ],
      "execution_count": 0,
      "outputs": []
    },
    {
      "cell_type": "markdown",
      "metadata": {
        "id": "mJaUbW83RbJ1",
        "colab_type": "text"
      },
      "source": [
        "##1. Load Data\n",
        "- Verbindung zu Google Drive wird erstellt, so dass auf die abgelegte Datenset zugegriffen werden kann \n",
        "- Danach wird CSV eingelesen und ausgegeben"
      ]
    },
    {
      "cell_type": "code",
      "metadata": {
        "id": "VsD5iDM1VEJg",
        "colab_type": "code",
        "outputId": "79b60d06-d706-4673-8e91-2edea4566215",
        "colab": {
          "base_uri": "https://localhost:8080/",
          "height": 125
        }
      },
      "source": [
        "from google.colab import drive\n",
        "drive.mount('/content/drive')"
      ],
      "execution_count": 2,
      "outputs": [
        {
          "output_type": "stream",
          "text": [
            "Go to this URL in a browser: https://accounts.google.com/o/oauth2/auth?client_id=947318989803-6bn6qk8qdgf4n4g3pfee6491hc0brc4i.apps.googleusercontent.com&redirect_uri=urn%3aietf%3awg%3aoauth%3a2.0%3aoob&response_type=code&scope=email%20https%3a%2f%2fwww.googleapis.com%2fauth%2fdocs.test%20https%3a%2f%2fwww.googleapis.com%2fauth%2fdrive%20https%3a%2f%2fwww.googleapis.com%2fauth%2fdrive.photos.readonly%20https%3a%2f%2fwww.googleapis.com%2fauth%2fpeopleapi.readonly\n",
            "\n",
            "Enter your authorization code:\n",
            "··········\n",
            "Mounted at /content/drive\n"
          ],
          "name": "stdout"
        }
      ]
    },
    {
      "cell_type": "code",
      "metadata": {
        "id": "To6bPFC9LqGk",
        "colab_type": "code",
        "outputId": "5eb9a11a-d844-4826-8c0b-e4404114ee3a",
        "colab": {
          "base_uri": "https://localhost:8080/",
          "height": 317
        }
      },
      "source": [
        "train_data = pd.read_csv('/content/drive/My Drive/Customer Analytics/Datensätze/clean_train_daily.csv', sep=\";\",\n",
        "                 header=None,\n",
        "                 names=['Datum', 'Jahr', 'Monat','TagMonat', 'Kalenderwoche', 'Tag', 'Tagesnummer',\n",
        "                        'Lokaler Feiertag', 'FeiertagID', 'Temperatur', 'Windgeschwindigkeit', \n",
        "                        'Feuchtigkeit', 'Schneefall', 'Niederschlag', 'Sonnenminuten', 'Schulferien', \n",
        "                        'FerienID', 'Umsatz'])\n",
        "train_data = train_data.drop(train_data.index[[0]])\n",
        "train_data.head()"
      ],
      "execution_count": 140,
      "outputs": [
        {
          "output_type": "execute_result",
          "data": {
            "text/html": [
              "<div>\n",
              "<style scoped>\n",
              "    .dataframe tbody tr th:only-of-type {\n",
              "        vertical-align: middle;\n",
              "    }\n",
              "\n",
              "    .dataframe tbody tr th {\n",
              "        vertical-align: top;\n",
              "    }\n",
              "\n",
              "    .dataframe thead th {\n",
              "        text-align: right;\n",
              "    }\n",
              "</style>\n",
              "<table border=\"1\" class=\"dataframe\">\n",
              "  <thead>\n",
              "    <tr style=\"text-align: right;\">\n",
              "      <th></th>\n",
              "      <th>Datum</th>\n",
              "      <th>Jahr</th>\n",
              "      <th>Monat</th>\n",
              "      <th>TagMonat</th>\n",
              "      <th>Kalenderwoche</th>\n",
              "      <th>Tag</th>\n",
              "      <th>Tagesnummer</th>\n",
              "      <th>Lokaler Feiertag</th>\n",
              "      <th>FeiertagID</th>\n",
              "      <th>Temperatur</th>\n",
              "      <th>Windgeschwindigkeit</th>\n",
              "      <th>Feuchtigkeit</th>\n",
              "      <th>Schneefall</th>\n",
              "      <th>Niederschlag</th>\n",
              "      <th>Sonnenminuten</th>\n",
              "      <th>Schulferien</th>\n",
              "      <th>FerienID</th>\n",
              "      <th>Umsatz</th>\n",
              "    </tr>\n",
              "  </thead>\n",
              "  <tbody>\n",
              "    <tr>\n",
              "      <th>1</th>\n",
              "      <td>02.01.2017</td>\n",
              "      <td>2017</td>\n",
              "      <td>1</td>\n",
              "      <td>2</td>\n",
              "      <td>1</td>\n",
              "      <td>Mo</td>\n",
              "      <td>1</td>\n",
              "      <td>NaN</td>\n",
              "      <td>0</td>\n",
              "      <td>0.805833333</td>\n",
              "      <td>3.280416667</td>\n",
              "      <td>84.66666667</td>\n",
              "      <td>0</td>\n",
              "      <td>3</td>\n",
              "      <td>188</td>\n",
              "      <td>Christmas holidays</td>\n",
              "      <td>1</td>\n",
              "      <td>8275.69157</td>\n",
              "    </tr>\n",
              "    <tr>\n",
              "      <th>2</th>\n",
              "      <td>03.01.2017</td>\n",
              "      <td>2017</td>\n",
              "      <td>1</td>\n",
              "      <td>3</td>\n",
              "      <td>1</td>\n",
              "      <td>Di</td>\n",
              "      <td>2</td>\n",
              "      <td>NaN</td>\n",
              "      <td>0</td>\n",
              "      <td>-2.075416667</td>\n",
              "      <td>1.700833333</td>\n",
              "      <td>85.125</td>\n",
              "      <td>0</td>\n",
              "      <td>0</td>\n",
              "      <td>390</td>\n",
              "      <td>Christmas holidays</td>\n",
              "      <td>1</td>\n",
              "      <td>3915.02667</td>\n",
              "    </tr>\n",
              "    <tr>\n",
              "      <th>3</th>\n",
              "      <td>04.01.2017</td>\n",
              "      <td>2017</td>\n",
              "      <td>1</td>\n",
              "      <td>4</td>\n",
              "      <td>1</td>\n",
              "      <td>Mi</td>\n",
              "      <td>3</td>\n",
              "      <td>NaN</td>\n",
              "      <td>0</td>\n",
              "      <td>-0.00375</td>\n",
              "      <td>10.35125</td>\n",
              "      <td>87</td>\n",
              "      <td>1</td>\n",
              "      <td>1.9</td>\n",
              "      <td>0</td>\n",
              "      <td>Christmas holidays</td>\n",
              "      <td>1</td>\n",
              "      <td>2195.397</td>\n",
              "    </tr>\n",
              "    <tr>\n",
              "      <th>4</th>\n",
              "      <td>05.01.2017</td>\n",
              "      <td>2017</td>\n",
              "      <td>1</td>\n",
              "      <td>5</td>\n",
              "      <td>1</td>\n",
              "      <td>Do</td>\n",
              "      <td>4</td>\n",
              "      <td>NaN</td>\n",
              "      <td>0</td>\n",
              "      <td>-2.39125</td>\n",
              "      <td>6.202083333</td>\n",
              "      <td>89.58333333</td>\n",
              "      <td>1</td>\n",
              "      <td>1.4</td>\n",
              "      <td>275</td>\n",
              "      <td>Christmas holidays</td>\n",
              "      <td>1</td>\n",
              "      <td>2272.40105</td>\n",
              "    </tr>\n",
              "    <tr>\n",
              "      <th>5</th>\n",
              "      <td>06.01.2017</td>\n",
              "      <td>2017</td>\n",
              "      <td>1</td>\n",
              "      <td>6</td>\n",
              "      <td>1</td>\n",
              "      <td>Fr</td>\n",
              "      <td>5</td>\n",
              "      <td>NaN</td>\n",
              "      <td>0</td>\n",
              "      <td>-8</td>\n",
              "      <td>3.671666667</td>\n",
              "      <td>81.08333333</td>\n",
              "      <td>0</td>\n",
              "      <td>0</td>\n",
              "      <td>522</td>\n",
              "      <td>Christmas holidays</td>\n",
              "      <td>1</td>\n",
              "      <td>4914.95375</td>\n",
              "    </tr>\n",
              "  </tbody>\n",
              "</table>\n",
              "</div>"
            ],
            "text/plain": [
              "        Datum  Jahr Monat  ...         Schulferien FerienID      Umsatz\n",
              "1  02.01.2017  2017     1  ...  Christmas holidays        1  8275.69157\n",
              "2  03.01.2017  2017     1  ...  Christmas holidays        1  3915.02667\n",
              "3  04.01.2017  2017     1  ...  Christmas holidays        1    2195.397\n",
              "4  05.01.2017  2017     1  ...  Christmas holidays        1  2272.40105\n",
              "5  06.01.2017  2017     1  ...  Christmas holidays        1  4914.95375\n",
              "\n",
              "[5 rows x 18 columns]"
            ]
          },
          "metadata": {
            "tags": []
          },
          "execution_count": 140
        }
      ]
    },
    {
      "cell_type": "markdown",
      "metadata": {
        "id": "Lo3Du4CmQzz5",
        "colab_type": "text"
      },
      "source": [
        "##2. DataFrame\n",
        "- DataFrame erstellen damit Random Forest ausgeführt werden kann\n",
        "- Alle Features, welche nit numerisch sind müssen entfernt werden. Random Forest kann damit nicht umgehen. "
      ]
    },
    {
      "cell_type": "code",
      "metadata": {
        "id": "UV6I5tCECjgz",
        "colab_type": "code",
        "outputId": "6ff7bd26-a37e-47e9-aaac-b2be62b20b73",
        "colab": {
          "base_uri": "https://localhost:8080/",
          "height": 197
        }
      },
      "source": [
        "df=pd.DataFrame(train_data)\n",
        "df.head()\n",
        "df.drop('Tag', axis=1, inplace=True)\n",
        "df.drop('Schulferien', axis=1, inplace=True)\n",
        "df.drop('Datum', axis=1, inplace=True)\n",
        "df.drop('Lokaler Feiertag', axis=1, inplace=True)\n",
        "df.head()\n"
      ],
      "execution_count": 141,
      "outputs": [
        {
          "output_type": "execute_result",
          "data": {
            "text/html": [
              "<div>\n",
              "<style scoped>\n",
              "    .dataframe tbody tr th:only-of-type {\n",
              "        vertical-align: middle;\n",
              "    }\n",
              "\n",
              "    .dataframe tbody tr th {\n",
              "        vertical-align: top;\n",
              "    }\n",
              "\n",
              "    .dataframe thead th {\n",
              "        text-align: right;\n",
              "    }\n",
              "</style>\n",
              "<table border=\"1\" class=\"dataframe\">\n",
              "  <thead>\n",
              "    <tr style=\"text-align: right;\">\n",
              "      <th></th>\n",
              "      <th>Jahr</th>\n",
              "      <th>Monat</th>\n",
              "      <th>TagMonat</th>\n",
              "      <th>Kalenderwoche</th>\n",
              "      <th>Tagesnummer</th>\n",
              "      <th>FeiertagID</th>\n",
              "      <th>Temperatur</th>\n",
              "      <th>Windgeschwindigkeit</th>\n",
              "      <th>Feuchtigkeit</th>\n",
              "      <th>Schneefall</th>\n",
              "      <th>Niederschlag</th>\n",
              "      <th>Sonnenminuten</th>\n",
              "      <th>FerienID</th>\n",
              "      <th>Umsatz</th>\n",
              "    </tr>\n",
              "  </thead>\n",
              "  <tbody>\n",
              "    <tr>\n",
              "      <th>1</th>\n",
              "      <td>2017</td>\n",
              "      <td>1</td>\n",
              "      <td>2</td>\n",
              "      <td>1</td>\n",
              "      <td>1</td>\n",
              "      <td>0</td>\n",
              "      <td>0.805833333</td>\n",
              "      <td>3.280416667</td>\n",
              "      <td>84.66666667</td>\n",
              "      <td>0</td>\n",
              "      <td>3</td>\n",
              "      <td>188</td>\n",
              "      <td>1</td>\n",
              "      <td>8275.69157</td>\n",
              "    </tr>\n",
              "    <tr>\n",
              "      <th>2</th>\n",
              "      <td>2017</td>\n",
              "      <td>1</td>\n",
              "      <td>3</td>\n",
              "      <td>1</td>\n",
              "      <td>2</td>\n",
              "      <td>0</td>\n",
              "      <td>-2.075416667</td>\n",
              "      <td>1.700833333</td>\n",
              "      <td>85.125</td>\n",
              "      <td>0</td>\n",
              "      <td>0</td>\n",
              "      <td>390</td>\n",
              "      <td>1</td>\n",
              "      <td>3915.02667</td>\n",
              "    </tr>\n",
              "    <tr>\n",
              "      <th>3</th>\n",
              "      <td>2017</td>\n",
              "      <td>1</td>\n",
              "      <td>4</td>\n",
              "      <td>1</td>\n",
              "      <td>3</td>\n",
              "      <td>0</td>\n",
              "      <td>-0.00375</td>\n",
              "      <td>10.35125</td>\n",
              "      <td>87</td>\n",
              "      <td>1</td>\n",
              "      <td>1.9</td>\n",
              "      <td>0</td>\n",
              "      <td>1</td>\n",
              "      <td>2195.397</td>\n",
              "    </tr>\n",
              "    <tr>\n",
              "      <th>4</th>\n",
              "      <td>2017</td>\n",
              "      <td>1</td>\n",
              "      <td>5</td>\n",
              "      <td>1</td>\n",
              "      <td>4</td>\n",
              "      <td>0</td>\n",
              "      <td>-2.39125</td>\n",
              "      <td>6.202083333</td>\n",
              "      <td>89.58333333</td>\n",
              "      <td>1</td>\n",
              "      <td>1.4</td>\n",
              "      <td>275</td>\n",
              "      <td>1</td>\n",
              "      <td>2272.40105</td>\n",
              "    </tr>\n",
              "    <tr>\n",
              "      <th>5</th>\n",
              "      <td>2017</td>\n",
              "      <td>1</td>\n",
              "      <td>6</td>\n",
              "      <td>1</td>\n",
              "      <td>5</td>\n",
              "      <td>0</td>\n",
              "      <td>-8</td>\n",
              "      <td>3.671666667</td>\n",
              "      <td>81.08333333</td>\n",
              "      <td>0</td>\n",
              "      <td>0</td>\n",
              "      <td>522</td>\n",
              "      <td>1</td>\n",
              "      <td>4914.95375</td>\n",
              "    </tr>\n",
              "  </tbody>\n",
              "</table>\n",
              "</div>"
            ],
            "text/plain": [
              "   Jahr Monat TagMonat  ... Sonnenminuten FerienID      Umsatz\n",
              "1  2017     1        2  ...           188        1  8275.69157\n",
              "2  2017     1        3  ...           390        1  3915.02667\n",
              "3  2017     1        4  ...             0        1    2195.397\n",
              "4  2017     1        5  ...           275        1  2272.40105\n",
              "5  2017     1        6  ...           522        1  4914.95375\n",
              "\n",
              "[5 rows x 14 columns]"
            ]
          },
          "metadata": {
            "tags": []
          },
          "execution_count": 141
        }
      ]
    },
    {
      "cell_type": "code",
      "metadata": {
        "id": "3GFTjZLrTL54",
        "colab_type": "code",
        "outputId": "8d70eeae-ca1c-4b29-b1ba-d9d1ab402506",
        "colab": {
          "base_uri": "https://localhost:8080/",
          "height": 52
        }
      },
      "source": [
        "print(df.iat[104,4])\n",
        "type(df.iat[104,4])"
      ],
      "execution_count": 142,
      "outputs": [
        {
          "output_type": "stream",
          "text": [
            "7\n"
          ],
          "name": "stdout"
        },
        {
          "output_type": "execute_result",
          "data": {
            "text/plain": [
              "str"
            ]
          },
          "metadata": {
            "tags": []
          },
          "execution_count": 142
        }
      ]
    },
    {
      "cell_type": "markdown",
      "metadata": {
        "id": "Pi7N2-SPSEA6",
        "colab_type": "text"
      },
      "source": [
        "##3. Create test and train data\n",
        "[Quelle vom Code](https://www.codementor.io/@agarrahul01/multiclass-classification-using-random-forest-on-scikit-learn-library-hkk4lwawu\n",
        ")\n",
        "- mit 0:13 geben wir an was die Werte sind und 13 ist der Index für den Label also Umsatz.\n",
        "- mit x und y definieren wir die variablen und den Label"
      ]
    },
    {
      "cell_type": "code",
      "metadata": {
        "id": "OSyRO1J0uffL",
        "colab_type": "code",
        "colab": {
          "base_uri": "https://localhost:8080/",
          "height": 638
        },
        "outputId": "f234beb8-916d-4992-f69b-4d519da35298"
      },
      "source": [
        "X = df.iloc[:, 0:13].values\n",
        "y = df.iloc[:, 13].values\n",
        "\n",
        "print('The y: ')\n",
        "print(y)\n",
        "print('The independent features set: ')\n",
        "print(X[:14,:])\n",
        "print('The dependent variable: ')\n",
        "print(y[:14])"
      ],
      "execution_count": 143,
      "outputs": [
        {
          "output_type": "stream",
          "text": [
            "The y: \n",
            "['8275.69157' '3915.02667' '2195.397' ... '5796.62099' '9309.89851'\n",
            " '8164.10073']\n",
            "The independent features set: \n",
            "[['2017' '1' '2' '1' '1' '0' '0.805833333' '3.280416667' '84.66666667'\n",
            "  '0' '3' '188' '1']\n",
            " ['2017' '1' '3' '1' '2' '0' '-2.075416667' '1.700833333' '85.125' '0'\n",
            "  '0' '390' '1']\n",
            " ['2017' '1' '4' '1' '3' '0' '-0.00375' '10.35125' '87' '1' '1.9' '0' '1']\n",
            " ['2017' '1' '5' '1' '4' '0' '-2.39125' '6.202083333' '89.58333333' '1'\n",
            "  '1.4' '275' '1']\n",
            " ['2017' '1' '6' '1' '5' '0' '-8' '3.671666667' '81.08333333' '0' '0'\n",
            "  '522' '1']\n",
            " ['2017' '1' '7' '1' '6' '0' '-4.9075' '1.989166667' '72.375' '0' '0'\n",
            "  '55' '1']\n",
            " ['2017' '1' '8' '1' '7' '0' '-0.835416667' '4.62875' '93.75' '1' '4.8'\n",
            "  '0' '0']\n",
            " ['2017' '1' '9' '2' '1' '0' '-1.991666667' '1.780416667' '90' '0' '0'\n",
            "  '232' '0']\n",
            " ['2017' '1' '10' '2' '2' '0' '-0.285' '5.119583333' '92.66666667' '1'\n",
            "  '7.5' '0' '0']\n",
            " ['2017' '1' '11' '2' '3' '0' '-0.452083333' '10.74041667' '88.75' '0'\n",
            "  '1.6' '217' '0']\n",
            " ['2017' '1' '12' '2' '4' '0' '4.470833333' '8.528333333' '86.66666667'\n",
            "  '0' '1.7' '14' '0']\n",
            " ['2017' '1' '13' '2' '5' '0' '1.013333333' '12.12125' '79.95833333' '1'\n",
            "  '2.9' '225' '0']\n",
            " ['2017' '1' '14' '2' '6' '0' '-1.272083333' '12.3525' '90.66666667' '1'\n",
            "  '7.9' '0' '0']\n",
            " ['2017' '1' '15' '2' '7' '0' '-1.982916667' '5.887083333' '88.95833333'\n",
            "  '1' '3.3' '0' '0']]\n",
            "The dependent variable: \n",
            "['8275.69157' '3915.02667' '2195.397' '2272.40105' '4914.95375'\n",
            " '7549.33936' '4602.86814' '3127.52671' '1104.81482' '1994.81483'\n",
            " '3683.02251' '3227.9341' '9272.16386' '6490.93794']\n"
          ],
          "name": "stdout"
        }
      ]
    },
    {
      "cell_type": "markdown",
      "metadata": {
        "id": "ysQTPNCUR_qQ",
        "colab_type": "text"
      },
      "source": [
        "- Unterteilung der Daten in Trainings- und Testdaten dabei nehmen wir 0.2 also 20% für den Test der Rest ist Training."
      ]
    },
    {
      "cell_type": "code",
      "metadata": {
        "id": "VHKWl_7eu7dV",
        "colab_type": "code",
        "colab": {}
      },
      "source": [
        "X_train, X_test, y_train, y_test = train_test_split(X, y, test_size=0.2, random_state=0)\n",
        "print(y_test)"
      ],
      "execution_count": 0,
      "outputs": []
    },
    {
      "cell_type": "markdown",
      "metadata": {
        "id": "Jm6ldGi4S4Gr",
        "colab_type": "text"
      },
      "source": [
        "##4. Build Random Forest Model\n",
        "- n_estimators ist ein Parameter der Anzahl Decision Trees festlegt, die gebaut werden sollen. \n",
        "- random_state ist der Seed der festgelegt wird. wenn dies mit random_state=0 (oder einem anderen Wert) aufgerufen wird, dann erhalten wir jedes Mal den gleichen Ergebnisgenerator.\n",
        "- danach wird Model ausgeführt"
      ]
    },
    {
      "cell_type": "code",
      "metadata": {
        "id": "7HOJJPcjvSLg",
        "colab_type": "code",
        "colab": {
          "base_uri": "https://localhost:8080/",
          "height": 141
        },
        "outputId": "4c74d484-fa1b-4d70-877b-1f654a384a2c"
      },
      "source": [
        "regressor = RandomForestRegressor(n_estimators=20, random_state=0)\n",
        "regressor.fit(X_train, y_train)\n"
      ],
      "execution_count": 133,
      "outputs": [
        {
          "output_type": "execute_result",
          "data": {
            "text/plain": [
              "RandomForestRegressor(bootstrap=True, ccp_alpha=0.0, criterion='mse',\n",
              "                      max_depth=None, max_features='auto', max_leaf_nodes=None,\n",
              "                      max_samples=None, min_impurity_decrease=0.0,\n",
              "                      min_impurity_split=None, min_samples_leaf=1,\n",
              "                      min_samples_split=2, min_weight_fraction_leaf=0.0,\n",
              "                      n_estimators=20, n_jobs=None, oob_score=False,\n",
              "                      random_state=0, verbose=0, warm_start=False)"
            ]
          },
          "metadata": {
            "tags": []
          },
          "execution_count": 133
        }
      ]
    },
    {
      "cell_type": "markdown",
      "metadata": {
        "id": "X_ZaZRa6Tn3A",
        "colab_type": "text"
      },
      "source": [
        "##5. Predict\n",
        "- Prediction von Test Labels"
      ]
    },
    {
      "cell_type": "code",
      "metadata": {
        "id": "AelU4-TRTnXn",
        "colab_type": "code",
        "colab": {}
      },
      "source": [
        "y_pred = regressor.predict(X_test)\n",
        "print(y_pred)\n",
        "print(y_test)"
      ],
      "execution_count": 0,
      "outputs": []
    },
    {
      "cell_type": "markdown",
      "metadata": {
        "id": "HLpJrDYyTy9U",
        "colab_type": "text"
      },
      "source": [
        "##6. Metrics & Results\n",
        "- Unterschiedliche Metricen werden verwendet um die Performance zu beurteilen"
      ]
    },
    {
      "cell_type": "code",
      "metadata": {
        "id": "1IXAbH4xu9Oq",
        "colab_type": "code",
        "colab": {}
      },
      "source": [
        "print('Classification Report')\n",
        "print(classification_report(y_test,y_pred))\n",
        "print('Accuracy')\n",
        "print(accuracy_score(y_test, y_pred))\n",
        "print('Confusion matrix')\n",
        "print(confusion_matrix(y_test,y_pred))"
      ],
      "execution_count": 0,
      "outputs": []
    },
    {
      "cell_type": "code",
      "metadata": {
        "id": "Qvox25Nsx2RT",
        "colab_type": "code",
        "colab": {
          "base_uri": "https://localhost:8080/",
          "height": 70
        },
        "outputId": "a25015ce-30a5-451c-8f9e-91466edb101d"
      },
      "source": [
        "print('Mean Absolute Error:', metrics.mean_absolute_error(y_test, y_pred))\n",
        "print('Mean Squared Error:', metrics.mean_squared_error(y_test, y_pred))\n",
        "print('Root Mean Squared Error:', np.sqrt(metrics.mean_squared_error(y_test, y_pred)))"
      ],
      "execution_count": 134,
      "outputs": [
        {
          "output_type": "stream",
          "text": [
            "Mean Absolute Error: 3961.5933858715603\n",
            "Mean Squared Error: 26685443.683781717\n",
            "Root Mean Squared Error: 5165.795551875985\n"
          ],
          "name": "stdout"
        }
      ]
    },
    {
      "cell_type": "markdown",
      "metadata": {
        "id": "fo4EjoTSzO6U",
        "colab_type": "text"
      },
      "source": [
        "**Der Mean Absolute Error beträgt 3961**"
      ]
    },
    {
      "cell_type": "markdown",
      "metadata": {
        "id": "8YIIklvqikgK",
        "colab_type": "text"
      },
      "source": [
        "##Try with Classifier\n",
        "\n",
        "----------------------------------------------------------------------------------\n"
      ]
    },
    {
      "cell_type": "markdown",
      "metadata": {
        "id": "xsQrOYixzocY",
        "colab_type": "text"
      },
      "source": [
        "Wir wiederholen alle Schritte und Erhöhen die Anzahl Decision Trees"
      ]
    },
    {
      "cell_type": "code",
      "metadata": {
        "id": "AjH8RRBQipp-",
        "colab_type": "code",
        "colab": {
          "base_uri": "https://localhost:8080/",
          "height": 158
        },
        "outputId": "a602c4de-9b19-41f5-ba1c-e97e6dc455fa"
      },
      "source": [
        "classifier = RandomForestClassifier(n_estimators = 100, criterion = 'entropy', random_state = 42)\n",
        "classifier.fit(X_train, y_train)"
      ],
      "execution_count": 145,
      "outputs": [
        {
          "output_type": "execute_result",
          "data": {
            "text/plain": [
              "RandomForestClassifier(bootstrap=True, ccp_alpha=0.0, class_weight=None,\n",
              "                       criterion='entropy', max_depth=None, max_features='auto',\n",
              "                       max_leaf_nodes=None, max_samples=None,\n",
              "                       min_impurity_decrease=0.0, min_impurity_split=None,\n",
              "                       min_samples_leaf=1, min_samples_split=2,\n",
              "                       min_weight_fraction_leaf=0.0, n_estimators=100,\n",
              "                       n_jobs=None, oob_score=False, random_state=42, verbose=0,\n",
              "                       warm_start=False)"
            ]
          },
          "metadata": {
            "tags": []
          },
          "execution_count": 145
        }
      ]
    },
    {
      "cell_type": "code",
      "metadata": {
        "id": "_f5CVNQGu7Oo",
        "colab_type": "code",
        "colab": {}
      },
      "source": [
        "y_pred = classifier.predict(X_test)\n",
        "print(y_pred)\n",
        "print(y_test)"
      ],
      "execution_count": 0,
      "outputs": []
    },
    {
      "cell_type": "code",
      "metadata": {
        "id": "Jt3V-HUBxTvK",
        "colab_type": "code",
        "colab": {
          "base_uri": "https://localhost:8080/",
          "height": 70
        },
        "outputId": "74590c26-a600-44c3-c3b5-98c9cf2f59ec"
      },
      "source": [
        "print('Mean Absolute Error:', metrics.mean_absolute_error(y_test, y_pred))\n",
        "print('Mean Squared Error:', metrics.mean_squared_error(y_test, y_pred))\n",
        "print('Root Mean Squared Error:', np.sqrt(metrics.mean_squared_error(y_test, y_pred)))"
      ],
      "execution_count": 147,
      "outputs": [
        {
          "output_type": "stream",
          "text": [
            "Mean Absolute Error: 3318.765823486239\n",
            "Mean Squared Error: 19329339.443925913\n",
            "Root Mean Squared Error: 4396.514465337958\n"
          ],
          "name": "stdout"
        }
      ]
    },
    {
      "cell_type": "markdown",
      "metadata": {
        "id": "WpSJ2efyXfBu",
        "colab_type": "text"
      },
      "source": [
        "#ZWEITER VERSUCH\n",
        "________________________________________________________________________________"
      ]
    },
    {
      "cell_type": "markdown",
      "metadata": {
        "id": "8DAFrMhZXiBE",
        "colab_type": "text"
      },
      "source": [
        "[Quelle vom Codes](https://www.youtube.com/watch?v=ok2s1vV9XW0)\n",
        "\n",
        "##3. Create test and train data\n",
        "- train_data in Test und Train teilen 80% train und 20% test\n",
        "- X sind unabhängige Variablen die Umsatz beinhalten,deswegen löschen wir Umsatz Spalte und bei Y sage ich es Zielvariable ist 'Umsatz'"
      ]
    },
    {
      "cell_type": "code",
      "metadata": {
        "id": "9zJyhcDYVuVB",
        "colab_type": "code",
        "colab": {}
      },
      "source": [
        "X_train, X_test, y_train, y_test = train_test_split(df.drop(['Umsatz'],axis='columns'),df.Umsatz,test_size=0.2)"
      ],
      "execution_count": 0,
      "outputs": []
    },
    {
      "cell_type": "markdown",
      "metadata": {
        "id": "69dSf7enYIyY",
        "colab_type": "text"
      },
      "source": [
        "- Nachprüfen, wie viele Daten in Train und Test sind."
      ]
    },
    {
      "cell_type": "code",
      "metadata": {
        "id": "fmLckt2AGjT-",
        "colab_type": "code",
        "outputId": "9f38dfcb-2f75-4014-d377-9fa04cb33cc7",
        "colab": {
          "base_uri": "https://localhost:8080/",
          "height": 52
        }
      },
      "source": [
        "print(\"train: \"+str(len(X_train)))\n",
        "print(\"test: \"+str(len(X_test)))"
      ],
      "execution_count": 24,
      "outputs": [
        {
          "output_type": "stream",
          "text": [
            "train: 869\n",
            "test: 218\n"
          ],
          "name": "stdout"
        }
      ]
    },
    {
      "cell_type": "markdown",
      "metadata": {
        "id": "h8cZUBwPYPDv",
        "colab_type": "text"
      },
      "source": [
        "##4. Build Random Forest, fit and see the performance\n",
        "\n",
        "[Quelle vom Code](https://www.geeksforgeeks.org/random-forest-regression-in-python/)\n",
        "- Random Forest wird aufgebaut mit 100 Decision Trees"
      ]
    },
    {
      "cell_type": "code",
      "metadata": {
        "id": "RhnW3eykJg83",
        "colab_type": "code",
        "outputId": "da5d4804-c2c1-466d-bb87-38df98972e1d",
        "colab": {
          "base_uri": "https://localhost:8080/",
          "height": 141
        }
      },
      "source": [
        "regressor_01 = RandomForestRegressor(n_estimators = 100, random_state = 0) \n",
        "regressor_01.fit(X_train,y_train) "
      ],
      "execution_count": 31,
      "outputs": [
        {
          "output_type": "execute_result",
          "data": {
            "text/plain": [
              "RandomForestRegressor(bootstrap=True, ccp_alpha=0.0, criterion='mse',\n",
              "                      max_depth=None, max_features='auto', max_leaf_nodes=None,\n",
              "                      max_samples=None, min_impurity_decrease=0.0,\n",
              "                      min_impurity_split=None, min_samples_leaf=1,\n",
              "                      min_samples_split=2, min_weight_fraction_leaf=0.0,\n",
              "                      n_estimators=100, n_jobs=None, oob_score=False,\n",
              "                      random_state=0, verbose=0, warm_start=False)"
            ]
          },
          "metadata": {
            "tags": []
          },
          "execution_count": 31
        }
      ]
    },
    {
      "cell_type": "markdown",
      "metadata": {
        "id": "hwCYHPqLaJ7k",
        "colab_type": "text"
      },
      "source": [
        "- erstes Ergebnis ist um die 78%"
      ]
    },
    {
      "cell_type": "code",
      "metadata": {
        "id": "Zr6HofAuZ-ID",
        "colab_type": "code",
        "colab": {
          "base_uri": "https://localhost:8080/",
          "height": 34
        },
        "outputId": "d365e3e5-fbe2-4870-b25b-3e88ce5d33b7"
      },
      "source": [
        "regressor_01.score(X_test,y_test)"
      ],
      "execution_count": 32,
      "outputs": [
        {
          "output_type": "execute_result",
          "data": {
            "text/plain": [
              "0.784426732210069"
            ]
          },
          "metadata": {
            "tags": []
          },
          "execution_count": 32
        }
      ]
    },
    {
      "cell_type": "markdown",
      "metadata": {
        "id": "wAFNa1-oZnHk",
        "colab_type": "text"
      },
      "source": [
        "- Gemäss Recherche heisst es mehr Decision Trees = Bessere Leistung. Dies probieren wir aus und erhöhen Decision Trees auf 200"
      ]
    },
    {
      "cell_type": "code",
      "metadata": {
        "id": "4OYrTknNSy4O",
        "colab_type": "code",
        "outputId": "ed06b7c6-837c-4bb3-f764-3452ed4fd414",
        "colab": {
          "base_uri": "https://localhost:8080/",
          "height": 141
        }
      },
      "source": [
        "\n",
        "regressor_02 = RandomForestRegressor(n_estimators = 200, random_state = 0) \n",
        "regressor_02.fit(X_train,y_train) "
      ],
      "execution_count": 148,
      "outputs": [
        {
          "output_type": "execute_result",
          "data": {
            "text/plain": [
              "RandomForestRegressor(bootstrap=True, ccp_alpha=0.0, criterion='mse',\n",
              "                      max_depth=None, max_features='auto', max_leaf_nodes=None,\n",
              "                      max_samples=None, min_impurity_decrease=0.0,\n",
              "                      min_impurity_split=None, min_samples_leaf=1,\n",
              "                      min_samples_split=2, min_weight_fraction_leaf=0.0,\n",
              "                      n_estimators=200, n_jobs=None, oob_score=False,\n",
              "                      random_state=0, verbose=0, warm_start=False)"
            ]
          },
          "metadata": {
            "tags": []
          },
          "execution_count": 148
        }
      ]
    },
    {
      "cell_type": "markdown",
      "metadata": {
        "id": "OZ0TRDRrZfFs",
        "colab_type": "text"
      },
      "source": [
        "- Im Score erhalten wir einen Wert von 0.78. "
      ]
    },
    {
      "cell_type": "code",
      "metadata": {
        "id": "WnXX4NpV6H60",
        "colab_type": "code",
        "outputId": "9e569cd8-b2e3-42a7-ca57-59fbf9335011",
        "colab": {
          "base_uri": "https://localhost:8080/",
          "height": 34
        }
      },
      "source": [
        "regressor_02.score(X_test,y_test)"
      ],
      "execution_count": 37,
      "outputs": [
        {
          "output_type": "execute_result",
          "data": {
            "text/plain": [
              "0.7823571204556975"
            ]
          },
          "metadata": {
            "tags": []
          },
          "execution_count": 37
        }
      ]
    },
    {
      "cell_type": "code",
      "metadata": {
        "id": "i9Hreb8J26e9",
        "colab_type": "code",
        "colab": {}
      },
      "source": [
        "y_pred = classifier.predict(X_test)\n",
        "print(y_pred)\n",
        "print(y_test)"
      ],
      "execution_count": 0,
      "outputs": []
    },
    {
      "cell_type": "code",
      "metadata": {
        "id": "_JDB518F22Us",
        "colab_type": "code",
        "colab": {
          "base_uri": "https://localhost:8080/",
          "height": 70
        },
        "outputId": "63f8763d-5868-441b-c15d-5ce45466cf41"
      },
      "source": [
        "print('Mean Absolute Error:', metrics.mean_absolute_error(y_test, y_pred))\n",
        "print('Mean Squared Error:', metrics.mean_squared_error(y_test, y_pred))\n",
        "print('Root Mean Squared Error:', np.sqrt(metrics.mean_squared_error(y_test, y_pred)))"
      ],
      "execution_count": 150,
      "outputs": [
        {
          "output_type": "stream",
          "text": [
            "Mean Absolute Error: 3318.765823486239\n",
            "Mean Squared Error: 19329339.443925913\n",
            "Root Mean Squared Error: 4396.514465337958\n"
          ],
          "name": "stdout"
        }
      ]
    },
    {
      "cell_type": "markdown",
      "metadata": {
        "id": "tlfIx30uafeM",
        "colab_type": "text"
      },
      "source": [
        "- Das Ergebnis ist nicht besser. Wir versuchen aber nochmal den Parameter zu ändern. Dieses mal stellen wir es auf 50"
      ]
    },
    {
      "cell_type": "code",
      "metadata": {
        "id": "IdZu8auG6DQA",
        "colab_type": "code",
        "outputId": "eb24ca24-203f-4d67-824a-46d5b9b95b69",
        "colab": {
          "base_uri": "https://localhost:8080/",
          "height": 141
        }
      },
      "source": [
        "regressor_03 = RandomForestRegressor(n_estimators = 50, random_state = 0) \n",
        "regressor_03.fit(X_train,y_train) "
      ],
      "execution_count": 39,
      "outputs": [
        {
          "output_type": "execute_result",
          "data": {
            "text/plain": [
              "RandomForestRegressor(bootstrap=True, ccp_alpha=0.0, criterion='mse',\n",
              "                      max_depth=None, max_features='auto', max_leaf_nodes=None,\n",
              "                      max_samples=None, min_impurity_decrease=0.0,\n",
              "                      min_impurity_split=None, min_samples_leaf=1,\n",
              "                      min_samples_split=2, min_weight_fraction_leaf=0.0,\n",
              "                      n_estimators=50, n_jobs=None, oob_score=False,\n",
              "                      random_state=0, verbose=0, warm_start=False)"
            ]
          },
          "metadata": {
            "tags": []
          },
          "execution_count": 39
        }
      ]
    },
    {
      "cell_type": "code",
      "metadata": {
        "id": "DySMzt8ICjo4",
        "colab_type": "code",
        "outputId": "a884fc7d-cb1c-43f5-f2f9-0b393e3df2d9",
        "colab": {
          "base_uri": "https://localhost:8080/",
          "height": 34
        }
      },
      "source": [
        "regressor_03.score(X_test,y_test)"
      ],
      "execution_count": 45,
      "outputs": [
        {
          "output_type": "execute_result",
          "data": {
            "text/plain": [
              "0.786901368277956"
            ]
          },
          "metadata": {
            "tags": []
          },
          "execution_count": 45
        }
      ]
    },
    {
      "cell_type": "markdown",
      "metadata": {
        "id": "_tIwU3IxaoIj",
        "colab_type": "text"
      },
      "source": [
        "- Wir haben minim besseres Ergebnis"
      ]
    },
    {
      "cell_type": "markdown",
      "metadata": {
        "id": "4Y-6kOW9awzf",
        "colab_type": "text"
      },
      "source": [
        "- Jetzt geben wir die predicted Werte mal aus"
      ]
    },
    {
      "cell_type": "code",
      "metadata": {
        "id": "J9TYYA84TBXd",
        "colab_type": "code",
        "colab": {}
      },
      "source": [
        "y_pred = regressor_03.predict(X_test)\n",
        "y_pred"
      ],
      "execution_count": 0,
      "outputs": []
    },
    {
      "cell_type": "code",
      "metadata": {
        "id": "urlVdBp63OPD",
        "colab_type": "code",
        "colab": {}
      },
      "source": [
        "print('Mean Absolute Error:', metrics.mean_absolute_error(y_test, y_pred))\n",
        "print('Mean Squared Error:', metrics.mean_squared_error(y_test, y_pred))\n",
        "print('Root Mean Squared Error:', np.sqrt(metrics.mean_squared_error(y_test, y_pred)))"
      ],
      "execution_count": 0,
      "outputs": []
    },
    {
      "cell_type": "markdown",
      "metadata": {
        "id": "Porne0GCgTbP",
        "colab_type": "text"
      },
      "source": [
        ""
      ]
    },
    {
      "cell_type": "markdown",
      "metadata": {
        "id": "rrr1OCfvgTfL",
        "colab_type": "text"
      },
      "source": [
        ""
      ]
    },
    {
      "cell_type": "markdown",
      "metadata": {
        "id": "lY-_RqRXgTix",
        "colab_type": "text"
      },
      "source": [
        "##MAKE PREDICTION WITH HOLDOUT DATASET WITHOUT LABELS\n",
        "\n",
        "Vorgegebene Excelliste füllen"
      ]
    },
    {
      "cell_type": "code",
      "metadata": {
        "id": "xrjhM4QzTBdO",
        "colab_type": "code",
        "colab": {
          "base_uri": "https://localhost:8080/",
          "height": 267
        },
        "outputId": "c209275c-1dd7-46e4-a5fd-905f32568469"
      },
      "source": [
        "test_data = pd.read_csv('/content/drive/My Drive/Customer Analytics/Datensätze/clean_TEST_daily.csv', sep=\";\",\n",
        "                 header=None,\n",
        "                 names=['Datum', 'Jahr', 'Monat','TagMonat', 'Kalenderwoche', 'Tag', 'Tagesnummer',\n",
        "                        'Lokaler Feiertag', 'FeiertagID', 'Temperatur', 'Windgeschwindigkeit', \n",
        "                        'Feuchtigkeit', 'Schneefall', 'Niederschlag', 'Sonnenminuten', 'Schulferien', \n",
        "                        'FerienID'])\n",
        "test_data = test_data.drop(test_data.index[[0]])\n",
        "test_data.head()"
      ],
      "execution_count": 152,
      "outputs": [
        {
          "output_type": "execute_result",
          "data": {
            "text/html": [
              "<div>\n",
              "<style scoped>\n",
              "    .dataframe tbody tr th:only-of-type {\n",
              "        vertical-align: middle;\n",
              "    }\n",
              "\n",
              "    .dataframe tbody tr th {\n",
              "        vertical-align: top;\n",
              "    }\n",
              "\n",
              "    .dataframe thead th {\n",
              "        text-align: right;\n",
              "    }\n",
              "</style>\n",
              "<table border=\"1\" class=\"dataframe\">\n",
              "  <thead>\n",
              "    <tr style=\"text-align: right;\">\n",
              "      <th></th>\n",
              "      <th>Datum</th>\n",
              "      <th>Jahr</th>\n",
              "      <th>Monat</th>\n",
              "      <th>TagMonat</th>\n",
              "      <th>Kalenderwoche</th>\n",
              "      <th>Tag</th>\n",
              "      <th>Tagesnummer</th>\n",
              "      <th>Lokaler Feiertag</th>\n",
              "      <th>FeiertagID</th>\n",
              "      <th>Temperatur</th>\n",
              "      <th>Windgeschwindigkeit</th>\n",
              "      <th>Feuchtigkeit</th>\n",
              "      <th>Schneefall</th>\n",
              "      <th>Niederschlag</th>\n",
              "      <th>Sonnenminuten</th>\n",
              "      <th>Schulferien</th>\n",
              "      <th>FerienID</th>\n",
              "    </tr>\n",
              "  </thead>\n",
              "  <tbody>\n",
              "    <tr>\n",
              "      <th>1</th>\n",
              "      <td>03.01.2020</td>\n",
              "      <td>2020</td>\n",
              "      <td>1</td>\n",
              "      <td>3</td>\n",
              "      <td>1</td>\n",
              "      <td>Fr</td>\n",
              "      <td>5</td>\n",
              "      <td>NaN</td>\n",
              "      <td>0</td>\n",
              "      <td>4.992083333</td>\n",
              "      <td>4.213333333</td>\n",
              "      <td>73.75</td>\n",
              "      <td>0</td>\n",
              "      <td>1.5</td>\n",
              "      <td>116</td>\n",
              "      <td>Christmas holidays</td>\n",
              "      <td>1</td>\n",
              "    </tr>\n",
              "    <tr>\n",
              "      <th>2</th>\n",
              "      <td>04.01.2020</td>\n",
              "      <td>2020</td>\n",
              "      <td>1</td>\n",
              "      <td>4</td>\n",
              "      <td>1</td>\n",
              "      <td>Sa</td>\n",
              "      <td>6</td>\n",
              "      <td>NaN</td>\n",
              "      <td>0</td>\n",
              "      <td>3.777916667</td>\n",
              "      <td>4.4925</td>\n",
              "      <td>86.54166667</td>\n",
              "      <td>0</td>\n",
              "      <td>2</td>\n",
              "      <td>179</td>\n",
              "      <td>Christmas holidays</td>\n",
              "      <td>1</td>\n",
              "    </tr>\n",
              "    <tr>\n",
              "      <th>3</th>\n",
              "      <td>05.01.2020</td>\n",
              "      <td>2020</td>\n",
              "      <td>1</td>\n",
              "      <td>5</td>\n",
              "      <td>1</td>\n",
              "      <td>So</td>\n",
              "      <td>7</td>\n",
              "      <td>NaN</td>\n",
              "      <td>0</td>\n",
              "      <td>0.85125</td>\n",
              "      <td>1.970416667</td>\n",
              "      <td>87.58333333</td>\n",
              "      <td>0</td>\n",
              "      <td>0</td>\n",
              "      <td>436</td>\n",
              "      <td>NaN</td>\n",
              "      <td>0</td>\n",
              "    </tr>\n",
              "    <tr>\n",
              "      <th>4</th>\n",
              "      <td>06.01.2020</td>\n",
              "      <td>2020</td>\n",
              "      <td>1</td>\n",
              "      <td>6</td>\n",
              "      <td>2</td>\n",
              "      <td>Mo</td>\n",
              "      <td>1</td>\n",
              "      <td>NaN</td>\n",
              "      <td>0</td>\n",
              "      <td>2.36875</td>\n",
              "      <td>2.05625</td>\n",
              "      <td>78.375</td>\n",
              "      <td>0</td>\n",
              "      <td>0</td>\n",
              "      <td>386</td>\n",
              "      <td>NaN</td>\n",
              "      <td>0</td>\n",
              "    </tr>\n",
              "    <tr>\n",
              "      <th>5</th>\n",
              "      <td>07.01.2020</td>\n",
              "      <td>2020</td>\n",
              "      <td>1</td>\n",
              "      <td>7</td>\n",
              "      <td>2</td>\n",
              "      <td>Di</td>\n",
              "      <td>2</td>\n",
              "      <td>NaN</td>\n",
              "      <td>0</td>\n",
              "      <td>3.644583333</td>\n",
              "      <td>3.129166667</td>\n",
              "      <td>82.91666667</td>\n",
              "      <td>0</td>\n",
              "      <td>0.2</td>\n",
              "      <td>52</td>\n",
              "      <td>NaN</td>\n",
              "      <td>0</td>\n",
              "    </tr>\n",
              "  </tbody>\n",
              "</table>\n",
              "</div>"
            ],
            "text/plain": [
              "        Datum  Jahr Monat  ... Sonnenminuten         Schulferien FerienID\n",
              "1  03.01.2020  2020     1  ...           116  Christmas holidays        1\n",
              "2  04.01.2020  2020     1  ...           179  Christmas holidays        1\n",
              "3  05.01.2020  2020     1  ...           436                 NaN        0\n",
              "4  06.01.2020  2020     1  ...           386                 NaN        0\n",
              "5  07.01.2020  2020     1  ...            52                 NaN        0\n",
              "\n",
              "[5 rows x 17 columns]"
            ]
          },
          "metadata": {
            "tags": []
          },
          "execution_count": 152
        }
      ]
    },
    {
      "cell_type": "code",
      "metadata": {
        "id": "aDzfXpGtg8BH",
        "colab_type": "code",
        "colab": {
          "base_uri": "https://localhost:8080/",
          "height": 267
        },
        "outputId": "e6a7b623-dfb1-4e25-f4d4-5cbfd56ae890"
      },
      "source": [
        "df2=pd.DataFrame(test_data)\n",
        "df2.head()"
      ],
      "execution_count": 153,
      "outputs": [
        {
          "output_type": "execute_result",
          "data": {
            "text/html": [
              "<div>\n",
              "<style scoped>\n",
              "    .dataframe tbody tr th:only-of-type {\n",
              "        vertical-align: middle;\n",
              "    }\n",
              "\n",
              "    .dataframe tbody tr th {\n",
              "        vertical-align: top;\n",
              "    }\n",
              "\n",
              "    .dataframe thead th {\n",
              "        text-align: right;\n",
              "    }\n",
              "</style>\n",
              "<table border=\"1\" class=\"dataframe\">\n",
              "  <thead>\n",
              "    <tr style=\"text-align: right;\">\n",
              "      <th></th>\n",
              "      <th>Datum</th>\n",
              "      <th>Jahr</th>\n",
              "      <th>Monat</th>\n",
              "      <th>TagMonat</th>\n",
              "      <th>Kalenderwoche</th>\n",
              "      <th>Tag</th>\n",
              "      <th>Tagesnummer</th>\n",
              "      <th>Lokaler Feiertag</th>\n",
              "      <th>FeiertagID</th>\n",
              "      <th>Temperatur</th>\n",
              "      <th>Windgeschwindigkeit</th>\n",
              "      <th>Feuchtigkeit</th>\n",
              "      <th>Schneefall</th>\n",
              "      <th>Niederschlag</th>\n",
              "      <th>Sonnenminuten</th>\n",
              "      <th>Schulferien</th>\n",
              "      <th>FerienID</th>\n",
              "    </tr>\n",
              "  </thead>\n",
              "  <tbody>\n",
              "    <tr>\n",
              "      <th>1</th>\n",
              "      <td>03.01.2020</td>\n",
              "      <td>2020</td>\n",
              "      <td>1</td>\n",
              "      <td>3</td>\n",
              "      <td>1</td>\n",
              "      <td>Fr</td>\n",
              "      <td>5</td>\n",
              "      <td>NaN</td>\n",
              "      <td>0</td>\n",
              "      <td>4.992083333</td>\n",
              "      <td>4.213333333</td>\n",
              "      <td>73.75</td>\n",
              "      <td>0</td>\n",
              "      <td>1.5</td>\n",
              "      <td>116</td>\n",
              "      <td>Christmas holidays</td>\n",
              "      <td>1</td>\n",
              "    </tr>\n",
              "    <tr>\n",
              "      <th>2</th>\n",
              "      <td>04.01.2020</td>\n",
              "      <td>2020</td>\n",
              "      <td>1</td>\n",
              "      <td>4</td>\n",
              "      <td>1</td>\n",
              "      <td>Sa</td>\n",
              "      <td>6</td>\n",
              "      <td>NaN</td>\n",
              "      <td>0</td>\n",
              "      <td>3.777916667</td>\n",
              "      <td>4.4925</td>\n",
              "      <td>86.54166667</td>\n",
              "      <td>0</td>\n",
              "      <td>2</td>\n",
              "      <td>179</td>\n",
              "      <td>Christmas holidays</td>\n",
              "      <td>1</td>\n",
              "    </tr>\n",
              "    <tr>\n",
              "      <th>3</th>\n",
              "      <td>05.01.2020</td>\n",
              "      <td>2020</td>\n",
              "      <td>1</td>\n",
              "      <td>5</td>\n",
              "      <td>1</td>\n",
              "      <td>So</td>\n",
              "      <td>7</td>\n",
              "      <td>NaN</td>\n",
              "      <td>0</td>\n",
              "      <td>0.85125</td>\n",
              "      <td>1.970416667</td>\n",
              "      <td>87.58333333</td>\n",
              "      <td>0</td>\n",
              "      <td>0</td>\n",
              "      <td>436</td>\n",
              "      <td>NaN</td>\n",
              "      <td>0</td>\n",
              "    </tr>\n",
              "    <tr>\n",
              "      <th>4</th>\n",
              "      <td>06.01.2020</td>\n",
              "      <td>2020</td>\n",
              "      <td>1</td>\n",
              "      <td>6</td>\n",
              "      <td>2</td>\n",
              "      <td>Mo</td>\n",
              "      <td>1</td>\n",
              "      <td>NaN</td>\n",
              "      <td>0</td>\n",
              "      <td>2.36875</td>\n",
              "      <td>2.05625</td>\n",
              "      <td>78.375</td>\n",
              "      <td>0</td>\n",
              "      <td>0</td>\n",
              "      <td>386</td>\n",
              "      <td>NaN</td>\n",
              "      <td>0</td>\n",
              "    </tr>\n",
              "    <tr>\n",
              "      <th>5</th>\n",
              "      <td>07.01.2020</td>\n",
              "      <td>2020</td>\n",
              "      <td>1</td>\n",
              "      <td>7</td>\n",
              "      <td>2</td>\n",
              "      <td>Di</td>\n",
              "      <td>2</td>\n",
              "      <td>NaN</td>\n",
              "      <td>0</td>\n",
              "      <td>3.644583333</td>\n",
              "      <td>3.129166667</td>\n",
              "      <td>82.91666667</td>\n",
              "      <td>0</td>\n",
              "      <td>0.2</td>\n",
              "      <td>52</td>\n",
              "      <td>NaN</td>\n",
              "      <td>0</td>\n",
              "    </tr>\n",
              "  </tbody>\n",
              "</table>\n",
              "</div>"
            ],
            "text/plain": [
              "        Datum  Jahr Monat  ... Sonnenminuten         Schulferien FerienID\n",
              "1  03.01.2020  2020     1  ...           116  Christmas holidays        1\n",
              "2  04.01.2020  2020     1  ...           179  Christmas holidays        1\n",
              "3  05.01.2020  2020     1  ...           436                 NaN        0\n",
              "4  06.01.2020  2020     1  ...           386                 NaN        0\n",
              "5  07.01.2020  2020     1  ...            52                 NaN        0\n",
              "\n",
              "[5 rows x 17 columns]"
            ]
          },
          "metadata": {
            "tags": []
          },
          "execution_count": 153
        }
      ]
    },
    {
      "cell_type": "code",
      "metadata": {
        "id": "id4L2lAt32bv",
        "colab_type": "code",
        "colab": {
          "base_uri": "https://localhost:8080/",
          "height": 197
        },
        "outputId": "3a3cb490-5824-4c85-e774-579a86c2865a"
      },
      "source": [
        "df2.drop('Tag', axis=1, inplace=True)\n",
        "df2.drop('Schulferien', axis=1, inplace=True)\n",
        "df2.drop('Datum', axis=1, inplace=True)\n",
        "df2.drop('Lokaler Feiertag', axis=1, inplace=True)\n",
        "df2.head()\n"
      ],
      "execution_count": 154,
      "outputs": [
        {
          "output_type": "execute_result",
          "data": {
            "text/html": [
              "<div>\n",
              "<style scoped>\n",
              "    .dataframe tbody tr th:only-of-type {\n",
              "        vertical-align: middle;\n",
              "    }\n",
              "\n",
              "    .dataframe tbody tr th {\n",
              "        vertical-align: top;\n",
              "    }\n",
              "\n",
              "    .dataframe thead th {\n",
              "        text-align: right;\n",
              "    }\n",
              "</style>\n",
              "<table border=\"1\" class=\"dataframe\">\n",
              "  <thead>\n",
              "    <tr style=\"text-align: right;\">\n",
              "      <th></th>\n",
              "      <th>Jahr</th>\n",
              "      <th>Monat</th>\n",
              "      <th>TagMonat</th>\n",
              "      <th>Kalenderwoche</th>\n",
              "      <th>Tagesnummer</th>\n",
              "      <th>FeiertagID</th>\n",
              "      <th>Temperatur</th>\n",
              "      <th>Windgeschwindigkeit</th>\n",
              "      <th>Feuchtigkeit</th>\n",
              "      <th>Schneefall</th>\n",
              "      <th>Niederschlag</th>\n",
              "      <th>Sonnenminuten</th>\n",
              "      <th>FerienID</th>\n",
              "    </tr>\n",
              "  </thead>\n",
              "  <tbody>\n",
              "    <tr>\n",
              "      <th>1</th>\n",
              "      <td>2020</td>\n",
              "      <td>1</td>\n",
              "      <td>3</td>\n",
              "      <td>1</td>\n",
              "      <td>5</td>\n",
              "      <td>0</td>\n",
              "      <td>4.992083333</td>\n",
              "      <td>4.213333333</td>\n",
              "      <td>73.75</td>\n",
              "      <td>0</td>\n",
              "      <td>1.5</td>\n",
              "      <td>116</td>\n",
              "      <td>1</td>\n",
              "    </tr>\n",
              "    <tr>\n",
              "      <th>2</th>\n",
              "      <td>2020</td>\n",
              "      <td>1</td>\n",
              "      <td>4</td>\n",
              "      <td>1</td>\n",
              "      <td>6</td>\n",
              "      <td>0</td>\n",
              "      <td>3.777916667</td>\n",
              "      <td>4.4925</td>\n",
              "      <td>86.54166667</td>\n",
              "      <td>0</td>\n",
              "      <td>2</td>\n",
              "      <td>179</td>\n",
              "      <td>1</td>\n",
              "    </tr>\n",
              "    <tr>\n",
              "      <th>3</th>\n",
              "      <td>2020</td>\n",
              "      <td>1</td>\n",
              "      <td>5</td>\n",
              "      <td>1</td>\n",
              "      <td>7</td>\n",
              "      <td>0</td>\n",
              "      <td>0.85125</td>\n",
              "      <td>1.970416667</td>\n",
              "      <td>87.58333333</td>\n",
              "      <td>0</td>\n",
              "      <td>0</td>\n",
              "      <td>436</td>\n",
              "      <td>0</td>\n",
              "    </tr>\n",
              "    <tr>\n",
              "      <th>4</th>\n",
              "      <td>2020</td>\n",
              "      <td>1</td>\n",
              "      <td>6</td>\n",
              "      <td>2</td>\n",
              "      <td>1</td>\n",
              "      <td>0</td>\n",
              "      <td>2.36875</td>\n",
              "      <td>2.05625</td>\n",
              "      <td>78.375</td>\n",
              "      <td>0</td>\n",
              "      <td>0</td>\n",
              "      <td>386</td>\n",
              "      <td>0</td>\n",
              "    </tr>\n",
              "    <tr>\n",
              "      <th>5</th>\n",
              "      <td>2020</td>\n",
              "      <td>1</td>\n",
              "      <td>7</td>\n",
              "      <td>2</td>\n",
              "      <td>2</td>\n",
              "      <td>0</td>\n",
              "      <td>3.644583333</td>\n",
              "      <td>3.129166667</td>\n",
              "      <td>82.91666667</td>\n",
              "      <td>0</td>\n",
              "      <td>0.2</td>\n",
              "      <td>52</td>\n",
              "      <td>0</td>\n",
              "    </tr>\n",
              "  </tbody>\n",
              "</table>\n",
              "</div>"
            ],
            "text/plain": [
              "   Jahr Monat TagMonat  ... Niederschlag Sonnenminuten FerienID\n",
              "1  2020     1        3  ...          1.5           116        1\n",
              "2  2020     1        4  ...            2           179        1\n",
              "3  2020     1        5  ...            0           436        0\n",
              "4  2020     1        6  ...            0           386        0\n",
              "5  2020     1        7  ...          0.2            52        0\n",
              "\n",
              "[5 rows x 13 columns]"
            ]
          },
          "metadata": {
            "tags": []
          },
          "execution_count": 154
        }
      ]
    },
    {
      "cell_type": "code",
      "metadata": {
        "id": "EkU9jnIKZclQ",
        "colab_type": "code",
        "colab": {
          "base_uri": "https://localhost:8080/",
          "height": 77
        },
        "outputId": "7826e156-80c3-4713-da32-d3fc0f109b34"
      },
      "source": [
        "i=1\n",
        "pd.DataFrame(df2, index=[i])"
      ],
      "execution_count": 155,
      "outputs": [
        {
          "output_type": "execute_result",
          "data": {
            "text/html": [
              "<div>\n",
              "<style scoped>\n",
              "    .dataframe tbody tr th:only-of-type {\n",
              "        vertical-align: middle;\n",
              "    }\n",
              "\n",
              "    .dataframe tbody tr th {\n",
              "        vertical-align: top;\n",
              "    }\n",
              "\n",
              "    .dataframe thead th {\n",
              "        text-align: right;\n",
              "    }\n",
              "</style>\n",
              "<table border=\"1\" class=\"dataframe\">\n",
              "  <thead>\n",
              "    <tr style=\"text-align: right;\">\n",
              "      <th></th>\n",
              "      <th>Jahr</th>\n",
              "      <th>Monat</th>\n",
              "      <th>TagMonat</th>\n",
              "      <th>Kalenderwoche</th>\n",
              "      <th>Tagesnummer</th>\n",
              "      <th>FeiertagID</th>\n",
              "      <th>Temperatur</th>\n",
              "      <th>Windgeschwindigkeit</th>\n",
              "      <th>Feuchtigkeit</th>\n",
              "      <th>Schneefall</th>\n",
              "      <th>Niederschlag</th>\n",
              "      <th>Sonnenminuten</th>\n",
              "      <th>FerienID</th>\n",
              "    </tr>\n",
              "  </thead>\n",
              "  <tbody>\n",
              "    <tr>\n",
              "      <th>1</th>\n",
              "      <td>2020</td>\n",
              "      <td>1</td>\n",
              "      <td>3</td>\n",
              "      <td>1</td>\n",
              "      <td>5</td>\n",
              "      <td>0</td>\n",
              "      <td>4.992083333</td>\n",
              "      <td>4.213333333</td>\n",
              "      <td>73.75</td>\n",
              "      <td>0</td>\n",
              "      <td>1.5</td>\n",
              "      <td>116</td>\n",
              "      <td>1</td>\n",
              "    </tr>\n",
              "  </tbody>\n",
              "</table>\n",
              "</div>"
            ],
            "text/plain": [
              "   Jahr Monat TagMonat  ... Niederschlag Sonnenminuten FerienID\n",
              "1  2020     1        3  ...          1.5           116        1\n",
              "\n",
              "[1 rows x 13 columns]"
            ]
          },
          "metadata": {
            "tags": []
          },
          "execution_count": 155
        }
      ]
    },
    {
      "cell_type": "code",
      "metadata": {
        "id": "cp5NUfBsg69W",
        "colab_type": "code",
        "colab": {}
      },
      "source": [
        "df2['Umsatz']=0"
      ],
      "execution_count": 0,
      "outputs": []
    },
    {
      "cell_type": "code",
      "metadata": {
        "id": "62LpjHyNU9ln",
        "colab_type": "code",
        "colab": {}
      },
      "source": [
        "i=1\n",
        "while i >len(test_data):\n",
        "  prediction= regressor.predict(pd.DataFrame(df2, index=[i]))\n",
        "  i=i+1\n",
        "  df2['Umsatz']=prediction\n",
        "  pd.DataFrame(df2, index=[i])"
      ],
      "execution_count": 0,
      "outputs": []
    },
    {
      "cell_type": "code",
      "metadata": {
        "id": "bEjOalBXU9nm",
        "colab_type": "code",
        "colab": {}
      },
      "source": [
        ""
      ],
      "execution_count": 0,
      "outputs": []
    },
    {
      "cell_type": "code",
      "metadata": {
        "id": "mJ12lfnJU9pe",
        "colab_type": "code",
        "colab": {}
      },
      "source": [
        ""
      ],
      "execution_count": 0,
      "outputs": []
    },
    {
      "cell_type": "code",
      "metadata": {
        "id": "XY9vov5yU9t6",
        "colab_type": "code",
        "colab": {}
      },
      "source": [
        ""
      ],
      "execution_count": 0,
      "outputs": []
    },
    {
      "cell_type": "code",
      "metadata": {
        "id": "ujYwLQsqjggc",
        "colab_type": "code",
        "colab": {
          "base_uri": "https://localhost:8080/",
          "height": 230
        },
        "outputId": "681a5e4c-ce9e-4c74-cd1c-decbc98f02c8"
      },
      "source": [
        "#Creating the dependent variable class\n",
        "factor = pd.factorize(df['Umsatz'])\n",
        "df.Umsatz = factor[0]\n",
        "definitions = factor[1]\n",
        "print(df.Umsatz.head())\n",
        "print(definitions)"
      ],
      "execution_count": 101,
      "outputs": [
        {
          "output_type": "stream",
          "text": [
            "1    0\n",
            "2    1\n",
            "3    2\n",
            "4    3\n",
            "5    4\n",
            "Name: Umsatz, dtype: int64\n",
            "Index(['8275.69157', '3915.02667', '2195.397', '2272.40105', '4914.95375',\n",
            "       '7549.33936', '4602.86814', '3127.52671', '1104.81482', '1994.81483',\n",
            "       ...\n",
            "       '7061.67283', '8217.69491', '5942.31027', '6181.85766', '9053.12047',\n",
            "       '13942.69882', '9577.4858', '5796.62099', '9309.89851', '8164.10073'],\n",
            "      dtype='object', length=1087)\n"
          ],
          "name": "stdout"
        }
      ]
    }
  ]
}